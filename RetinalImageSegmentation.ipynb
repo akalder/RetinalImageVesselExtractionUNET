{
  "cells": [
    {
      "cell_type": "markdown",
      "metadata": {
        "id": "ZqMT2bUeBIQ3"
      },
      "source": [
        "Working on data"
      ]
    },
    {
      "cell_type": "markdown",
      "metadata": {
        "id": "JDpbGwnvBIK-"
      },
      "source": []
    },
    {
      "cell_type": "code",
      "execution_count": 1,
      "metadata": {
        "id": "SGTg198FAcLj"
      },
      "outputs": [],
      "source": [
        "import os\n",
        "import numpy as np\n",
        "import pandas as pd\n",
        "import cv2\n",
        "from glob import glob\n",
        "from tqdm import tqdm\n",
        "import imageio\n",
        "from albumentations import HorizontalFlip, VerticalFlip, ElasticTransform, GridDistortion, OpticalDistortion, CoarseDropout\n",
        "import tensorflow as tf\n",
        "from tensorflow.keras import backend as K\n",
        "from tensorflow.keras.layers import Conv2D, BatchNormalization, Activation, MaxPool2D, Conv2DTranspose, Concatenate, Input\n",
        "from tensorflow.keras.models import Model\n",
        "from google.colab import drive\n",
        "from sklearn.utils import shuffle\n",
        "from keras.callbacks import ModelCheckpoint, CSVLogger, ReduceLROnPlateau, EarlyStopping, TensorBoard\n",
        "from keras.optimizers import Adam\n",
        "from keras.metrics import Recall, Precision\n",
        "from tensorflow.keras.utils import CustomObjectScope\n",
        "from sklearn.metrics import accuracy_score, f1_score, jaccard_score, precision_score, recall_score\n"
      ]
    },
    {
      "cell_type": "code",
      "execution_count": 2,
      "metadata": {
        "id": "pWiJDAdcBPcg"
      },
      "outputs": [],
      "source": [
        "def create_dir(path):\n",
        "    if not os.path.exists(path):\n",
        "        os.makedirs(path)"
      ]
    },
    {
      "cell_type": "code",
      "execution_count": 3,
      "metadata": {
        "id": "5NOsB1pKBXj-"
      },
      "outputs": [],
      "source": [
        "def load_data(path):\n",
        "    \"\"\" X = Images and Y = masks \"\"\"\n",
        "\n",
        "    train_x = sorted(glob(os.path.join(path, \"training\", \"images\", \"*.tif\")))\n",
        "    train_y = sorted(glob(os.path.join(path, \"training\", \"1st_manual\", \"*.gif\")))\n",
        "\n",
        "    test_x = sorted(glob(os.path.join(path, \"test\", \"images\", \"*.tif\")))\n",
        "    test_y = sorted(glob(os.path.join(path, \"test\", \"1st_manual\", \"*.gif\")))\n",
        "\n",
        "    return (train_x, train_y), (test_x, test_y)"
      ]
    },
    {
      "cell_type": "code",
      "execution_count": 4,
      "metadata": {
        "id": "gPyMChqmBboU"
      },
      "outputs": [],
      "source": [
        "def augment_data(images, masks, save_path, augment=True):\n",
        "    H = 512\n",
        "    W = 512\n",
        "\n",
        "    for idx, (x, y) in tqdm(enumerate(zip(images, masks)), total=len(images)):\n",
        "        \"\"\" Extracting names \"\"\"\n",
        "        # x = x.replace('\\\\', '/')\n",
        "        # y = y.replace('\\\\', '/')\n",
        "        name = x.split(\"/\")[-1].split(\".\")[0]\n",
        "\n",
        "        \"\"\" Reading image and mask \"\"\"\n",
        "        x = cv2.imread(x, cv2.IMREAD_COLOR)\n",
        "        y = imageio.mimread(y)[0]\n",
        "\n",
        "        if augment == True:\n",
        "            aug = HorizontalFlip(p=1.0)\n",
        "            augmented = aug(image=x, mask=y)\n",
        "            x1 = augmented[\"image\"]\n",
        "            y1 = augmented[\"mask\"]\n",
        "\n",
        "            aug = VerticalFlip(p=1.0)\n",
        "            augmented = aug(image=x, mask=y)\n",
        "            x2 = augmented[\"image\"]\n",
        "            y2 = augmented[\"mask\"]\n",
        "\n",
        "            aug = ElasticTransform(p=1, alpha=120, sigma=120 * 0.05, alpha_affine=120 * 0.03)\n",
        "            augmented = aug(image=x, mask=y)\n",
        "            x3 = augmented['image']\n",
        "            y3 = augmented['mask']\n",
        "\n",
        "            aug = GridDistortion(p=1)\n",
        "            augmented = aug(image=x, mask=y)\n",
        "            x4 = augmented['image']\n",
        "            y4 = augmented['mask']\n",
        "\n",
        "            aug = OpticalDistortion(p=1, distort_limit=2, shift_limit=0.5)\n",
        "            augmented = aug(image=x, mask=y)\n",
        "            x5 = augmented['image']\n",
        "            y5 = augmented['mask']\n",
        "\n",
        "            X = [x, x1, x2, x3, x4, x5]\n",
        "            Y = [y, y1, y2, y3, y4, y5]\n",
        "\n",
        "        else:\n",
        "            X = [x]\n",
        "            Y = [y]\n",
        "\n",
        "        index = 0\n",
        "        for i, m in zip(X, Y):\n",
        "            i = cv2.resize(i, (W, H))\n",
        "            m = cv2.resize(m, (W, H))\n",
        "\n",
        "            if len(X) == 1:\n",
        "                tmp_image_name = f\"{name}.jpg\"\n",
        "                tmp_mask_name = f\"{name}.jpg\"\n",
        "            else:\n",
        "                tmp_image_name = f\"{name}_{index}.jpg\"\n",
        "                tmp_mask_name = f\"{name}_{index}.jpg\"\n",
        "\n",
        "            image_path = os.path.join(save_path, \"image\", tmp_image_name)\n",
        "            mask_path = os.path.join(save_path, \"mask\", tmp_mask_name)\n",
        "\n",
        "            cv2.imwrite(image_path, i)\n",
        "            cv2.imwrite(mask_path, m)\n",
        "\n",
        "            index += 1"
      ]
    },
    {
      "cell_type": "code",
      "execution_count": 5,
      "metadata": {
        "id": "qkGw2ClDB09f"
      },
      "outputs": [],
      "source": [
        "np.random.seed(42)"
      ]
    },
    {
      "cell_type": "code",
      "execution_count": 6,
      "metadata": {
        "colab": {
          "base_uri": "https://localhost:8080/"
        },
        "id": "Gypw33pRCZiR",
        "outputId": "9488c34b-063d-416d-a957-a20d6edae7b2"
      },
      "outputs": [
        {
          "output_type": "stream",
          "name": "stdout",
          "text": [
            "Mounted at /content/drive\n"
          ]
        }
      ],
      "source": [
        "\n",
        "drive.mount('/content/drive')\n",
        "\n",
        "\n",
        "data_path = \"/content/drive/MyDrive/DatasetRetina\"\n",
        "(train_x, train_y), (test_x, test_y) = load_data(data_path)\n",
        "\n"
      ]
    },
    {
      "cell_type": "code",
      "execution_count": 7,
      "metadata": {
        "colab": {
          "base_uri": "https://localhost:8080/"
        },
        "id": "TqGEQcKyEnMb",
        "outputId": "a5b3963c-6404-43da-b81c-247d20c8ab0d"
      },
      "outputs": [
        {
          "output_type": "stream",
          "name": "stdout",
          "text": [
            "Train: 20 - 20\n",
            "Test: 20 - 20\n"
          ]
        },
        {
          "output_type": "stream",
          "name": "stderr",
          "text": [
            "100%|██████████| 20/20 [00:40<00:00,  2.00s/it]\n",
            "100%|██████████| 20/20 [00:42<00:00,  2.11s/it]\n"
          ]
        }
      ],
      "source": [
        "print(f\"Train: {len(train_x)} - {len(train_y)}\")\n",
        "print(f\"Test: {len(test_x)} - {len(test_y)}\")\n",
        "\n",
        "\"\"\" Creating directories \"\"\"\n",
        "create_dir(\"new_data/train/image\")\n",
        "create_dir(\"new_data/train/mask\")\n",
        "create_dir(\"new_data/test/image\")\n",
        "create_dir(\"new_data/test/mask\")\n",
        "\n",
        "augment_data(train_x, train_y, \"new_data/train/\", augment=True)\n",
        "augment_data(test_x, test_y, \"new_data/test/\", augment=True)"
      ]
    },
    {
      "cell_type": "markdown",
      "metadata": {
        "id": "TNk3vRE7Ey54"
      },
      "source": [
        "Metrics"
      ]
    },
    {
      "cell_type": "code",
      "execution_count": 8,
      "metadata": {
        "id": "oE4Ch-HUFKYQ"
      },
      "outputs": [],
      "source": [
        "def iou(y_true, y_pred):\n",
        "    def f(y_true, y_pred):\n",
        "        intersection = (y_true * y_pred).sum()\n",
        "        union = y_true.sum() + y_pred.sum() - intersection\n",
        "        x = (intersection + 1e-15) / (union + 1e-15)\n",
        "        x = x.astype(np.float32)\n",
        "        return x\n",
        "    return tf.numpy_function(f, [y_true, y_pred], tf.float32)"
      ]
    },
    {
      "cell_type": "code",
      "execution_count": 9,
      "metadata": {
        "id": "PL9sZZqdFNn3"
      },
      "outputs": [],
      "source": [
        "smooth = 1e-15\n",
        "def dice_coef(y_true, y_pred):\n",
        "    y_true = tf.keras.layers.Flatten()(y_true)\n",
        "    y_pred = tf.keras.layers.Flatten()(y_pred)\n",
        "    intersection = tf.reduce_sum(y_true * y_pred)\n",
        "    return (2. * intersection + smooth) / (tf.reduce_sum(y_true) + tf.reduce_sum(y_pred) + smooth)"
      ]
    },
    {
      "cell_type": "code",
      "execution_count": 10,
      "metadata": {
        "id": "J7IFw6u5FQIL"
      },
      "outputs": [],
      "source": [
        "def dice_loss(y_true, y_pred):\n",
        "    return 1.0 - dice_coef(y_true, y_pred)"
      ]
    },
    {
      "cell_type": "markdown",
      "metadata": {
        "id": "T3odP4O-FvVP"
      },
      "source": [
        "Model"
      ]
    },
    {
      "cell_type": "code",
      "execution_count": 11,
      "metadata": {
        "id": "Z9jOI5toFoKy"
      },
      "outputs": [],
      "source": [
        "def conv_block(inputs, num_filters):\n",
        "    x = Conv2D(num_filters, 3, padding=\"same\")(inputs)\n",
        "    x = BatchNormalization()(x)\n",
        "    x = Activation(\"relu\")(x)\n",
        "\n",
        "    x = Conv2D(num_filters, 3, padding=\"same\")(x)\n",
        "    x = BatchNormalization()(x)\n",
        "    x = Activation(\"relu\")(x)\n",
        "\n",
        "    return x"
      ]
    },
    {
      "cell_type": "code",
      "execution_count": 12,
      "metadata": {
        "id": "sUIdymORFqH1"
      },
      "outputs": [],
      "source": [
        "def encoder_block(inputs, num_filters):\n",
        "    x = conv_block(inputs, num_filters)\n",
        "    p = MaxPool2D((2, 2))(x)\n",
        "    return x, p"
      ]
    },
    {
      "cell_type": "code",
      "execution_count": 13,
      "metadata": {
        "id": "LxRxag6pFtQJ"
      },
      "outputs": [],
      "source": [
        "def decoder_block(inputs, skip_features, num_filters):\n",
        "    x = Conv2DTranspose(num_filters, (2, 2), strides=2, padding=\"same\")(inputs)\n",
        "    x = Concatenate()([x, skip_features])\n",
        "    x = conv_block(x, num_filters)\n",
        "    return x"
      ]
    },
    {
      "cell_type": "code",
      "execution_count": 14,
      "metadata": {
        "id": "QklFVnZbF00Z"
      },
      "outputs": [],
      "source": [
        "def build_unet(input_shape):\n",
        "    inputs = Input(input_shape)\n",
        "\n",
        "    s1, p1 = encoder_block(inputs, 64)\n",
        "    s2, p2 = encoder_block(p1, 128)\n",
        "    s3, p3 = encoder_block(p2, 256)\n",
        "    s4, p4 = encoder_block(p3, 512)\n",
        "\n",
        "    b1 = conv_block(p4, 1024)\n",
        "\n",
        "    d1 = decoder_block(b1, s4, 512)\n",
        "    d2 = decoder_block(d1, s3, 256)\n",
        "    d3 = decoder_block(d2, s2, 128)\n",
        "    d4 = decoder_block(d3, s1, 64)\n",
        "\n",
        "    outputs = Conv2D(1, 1, padding=\"same\", activation=\"sigmoid\")(d4)\n",
        "\n",
        "    model = Model(inputs, outputs, name=\"UNET\")\n",
        "    return model"
      ]
    },
    {
      "cell_type": "code",
      "execution_count": 15,
      "metadata": {
        "colab": {
          "base_uri": "https://localhost:8080/"
        },
        "id": "eYFzFxNjF3_M",
        "outputId": "975ccf8d-2d19-470e-9618-6ea9610b8e53"
      },
      "outputs": [
        {
          "output_type": "stream",
          "name": "stdout",
          "text": [
            "Model: \"UNET\"\n",
            "__________________________________________________________________________________________________\n",
            " Layer (type)                   Output Shape         Param #     Connected to                     \n",
            "==================================================================================================\n",
            " input_1 (InputLayer)           [(None, 512, 512, 3  0           []                               \n",
            "                                )]                                                                \n",
            "                                                                                                  \n",
            " conv2d (Conv2D)                (None, 512, 512, 64  1792        ['input_1[0][0]']                \n",
            "                                )                                                                 \n",
            "                                                                                                  \n",
            " batch_normalization (BatchNorm  (None, 512, 512, 64  256        ['conv2d[0][0]']                 \n",
            " alization)                     )                                                                 \n",
            "                                                                                                  \n",
            " activation (Activation)        (None, 512, 512, 64  0           ['batch_normalization[0][0]']    \n",
            "                                )                                                                 \n",
            "                                                                                                  \n",
            " conv2d_1 (Conv2D)              (None, 512, 512, 64  36928       ['activation[0][0]']             \n",
            "                                )                                                                 \n",
            "                                                                                                  \n",
            " batch_normalization_1 (BatchNo  (None, 512, 512, 64  256        ['conv2d_1[0][0]']               \n",
            " rmalization)                   )                                                                 \n",
            "                                                                                                  \n",
            " activation_1 (Activation)      (None, 512, 512, 64  0           ['batch_normalization_1[0][0]']  \n",
            "                                )                                                                 \n",
            "                                                                                                  \n",
            " max_pooling2d (MaxPooling2D)   (None, 256, 256, 64  0           ['activation_1[0][0]']           \n",
            "                                )                                                                 \n",
            "                                                                                                  \n",
            " conv2d_2 (Conv2D)              (None, 256, 256, 12  73856       ['max_pooling2d[0][0]']          \n",
            "                                8)                                                                \n",
            "                                                                                                  \n",
            " batch_normalization_2 (BatchNo  (None, 256, 256, 12  512        ['conv2d_2[0][0]']               \n",
            " rmalization)                   8)                                                                \n",
            "                                                                                                  \n",
            " activation_2 (Activation)      (None, 256, 256, 12  0           ['batch_normalization_2[0][0]']  \n",
            "                                8)                                                                \n",
            "                                                                                                  \n",
            " conv2d_3 (Conv2D)              (None, 256, 256, 12  147584      ['activation_2[0][0]']           \n",
            "                                8)                                                                \n",
            "                                                                                                  \n",
            " batch_normalization_3 (BatchNo  (None, 256, 256, 12  512        ['conv2d_3[0][0]']               \n",
            " rmalization)                   8)                                                                \n",
            "                                                                                                  \n",
            " activation_3 (Activation)      (None, 256, 256, 12  0           ['batch_normalization_3[0][0]']  \n",
            "                                8)                                                                \n",
            "                                                                                                  \n",
            " max_pooling2d_1 (MaxPooling2D)  (None, 128, 128, 12  0          ['activation_3[0][0]']           \n",
            "                                8)                                                                \n",
            "                                                                                                  \n",
            " conv2d_4 (Conv2D)              (None, 128, 128, 25  295168      ['max_pooling2d_1[0][0]']        \n",
            "                                6)                                                                \n",
            "                                                                                                  \n",
            " batch_normalization_4 (BatchNo  (None, 128, 128, 25  1024       ['conv2d_4[0][0]']               \n",
            " rmalization)                   6)                                                                \n",
            "                                                                                                  \n",
            " activation_4 (Activation)      (None, 128, 128, 25  0           ['batch_normalization_4[0][0]']  \n",
            "                                6)                                                                \n",
            "                                                                                                  \n",
            " conv2d_5 (Conv2D)              (None, 128, 128, 25  590080      ['activation_4[0][0]']           \n",
            "                                6)                                                                \n",
            "                                                                                                  \n",
            " batch_normalization_5 (BatchNo  (None, 128, 128, 25  1024       ['conv2d_5[0][0]']               \n",
            " rmalization)                   6)                                                                \n",
            "                                                                                                  \n",
            " activation_5 (Activation)      (None, 128, 128, 25  0           ['batch_normalization_5[0][0]']  \n",
            "                                6)                                                                \n",
            "                                                                                                  \n",
            " max_pooling2d_2 (MaxPooling2D)  (None, 64, 64, 256)  0          ['activation_5[0][0]']           \n",
            "                                                                                                  \n",
            " conv2d_6 (Conv2D)              (None, 64, 64, 512)  1180160     ['max_pooling2d_2[0][0]']        \n",
            "                                                                                                  \n",
            " batch_normalization_6 (BatchNo  (None, 64, 64, 512)  2048       ['conv2d_6[0][0]']               \n",
            " rmalization)                                                                                     \n",
            "                                                                                                  \n",
            " activation_6 (Activation)      (None, 64, 64, 512)  0           ['batch_normalization_6[0][0]']  \n",
            "                                                                                                  \n",
            " conv2d_7 (Conv2D)              (None, 64, 64, 512)  2359808     ['activation_6[0][0]']           \n",
            "                                                                                                  \n",
            " batch_normalization_7 (BatchNo  (None, 64, 64, 512)  2048       ['conv2d_7[0][0]']               \n",
            " rmalization)                                                                                     \n",
            "                                                                                                  \n",
            " activation_7 (Activation)      (None, 64, 64, 512)  0           ['batch_normalization_7[0][0]']  \n",
            "                                                                                                  \n",
            " max_pooling2d_3 (MaxPooling2D)  (None, 32, 32, 512)  0          ['activation_7[0][0]']           \n",
            "                                                                                                  \n",
            " conv2d_8 (Conv2D)              (None, 32, 32, 1024  4719616     ['max_pooling2d_3[0][0]']        \n",
            "                                )                                                                 \n",
            "                                                                                                  \n",
            " batch_normalization_8 (BatchNo  (None, 32, 32, 1024  4096       ['conv2d_8[0][0]']               \n",
            " rmalization)                   )                                                                 \n",
            "                                                                                                  \n",
            " activation_8 (Activation)      (None, 32, 32, 1024  0           ['batch_normalization_8[0][0]']  \n",
            "                                )                                                                 \n",
            "                                                                                                  \n",
            " conv2d_9 (Conv2D)              (None, 32, 32, 1024  9438208     ['activation_8[0][0]']           \n",
            "                                )                                                                 \n",
            "                                                                                                  \n",
            " batch_normalization_9 (BatchNo  (None, 32, 32, 1024  4096       ['conv2d_9[0][0]']               \n",
            " rmalization)                   )                                                                 \n",
            "                                                                                                  \n",
            " activation_9 (Activation)      (None, 32, 32, 1024  0           ['batch_normalization_9[0][0]']  \n",
            "                                )                                                                 \n",
            "                                                                                                  \n",
            " conv2d_transpose (Conv2DTransp  (None, 64, 64, 512)  2097664    ['activation_9[0][0]']           \n",
            " ose)                                                                                             \n",
            "                                                                                                  \n",
            " concatenate (Concatenate)      (None, 64, 64, 1024  0           ['conv2d_transpose[0][0]',       \n",
            "                                )                                 'activation_7[0][0]']           \n",
            "                                                                                                  \n",
            " conv2d_10 (Conv2D)             (None, 64, 64, 512)  4719104     ['concatenate[0][0]']            \n",
            "                                                                                                  \n",
            " batch_normalization_10 (BatchN  (None, 64, 64, 512)  2048       ['conv2d_10[0][0]']              \n",
            " ormalization)                                                                                    \n",
            "                                                                                                  \n",
            " activation_10 (Activation)     (None, 64, 64, 512)  0           ['batch_normalization_10[0][0]'] \n",
            "                                                                                                  \n",
            " conv2d_11 (Conv2D)             (None, 64, 64, 512)  2359808     ['activation_10[0][0]']          \n",
            "                                                                                                  \n",
            " batch_normalization_11 (BatchN  (None, 64, 64, 512)  2048       ['conv2d_11[0][0]']              \n",
            " ormalization)                                                                                    \n",
            "                                                                                                  \n",
            " activation_11 (Activation)     (None, 64, 64, 512)  0           ['batch_normalization_11[0][0]'] \n",
            "                                                                                                  \n",
            " conv2d_transpose_1 (Conv2DTran  (None, 128, 128, 25  524544     ['activation_11[0][0]']          \n",
            " spose)                         6)                                                                \n",
            "                                                                                                  \n",
            " concatenate_1 (Concatenate)    (None, 128, 128, 51  0           ['conv2d_transpose_1[0][0]',     \n",
            "                                2)                                'activation_5[0][0]']           \n",
            "                                                                                                  \n",
            " conv2d_12 (Conv2D)             (None, 128, 128, 25  1179904     ['concatenate_1[0][0]']          \n",
            "                                6)                                                                \n",
            "                                                                                                  \n",
            " batch_normalization_12 (BatchN  (None, 128, 128, 25  1024       ['conv2d_12[0][0]']              \n",
            " ormalization)                  6)                                                                \n",
            "                                                                                                  \n",
            " activation_12 (Activation)     (None, 128, 128, 25  0           ['batch_normalization_12[0][0]'] \n",
            "                                6)                                                                \n",
            "                                                                                                  \n",
            " conv2d_13 (Conv2D)             (None, 128, 128, 25  590080      ['activation_12[0][0]']          \n",
            "                                6)                                                                \n",
            "                                                                                                  \n",
            " batch_normalization_13 (BatchN  (None, 128, 128, 25  1024       ['conv2d_13[0][0]']              \n",
            " ormalization)                  6)                                                                \n",
            "                                                                                                  \n",
            " activation_13 (Activation)     (None, 128, 128, 25  0           ['batch_normalization_13[0][0]'] \n",
            "                                6)                                                                \n",
            "                                                                                                  \n",
            " conv2d_transpose_2 (Conv2DTran  (None, 256, 256, 12  131200     ['activation_13[0][0]']          \n",
            " spose)                         8)                                                                \n",
            "                                                                                                  \n",
            " concatenate_2 (Concatenate)    (None, 256, 256, 25  0           ['conv2d_transpose_2[0][0]',     \n",
            "                                6)                                'activation_3[0][0]']           \n",
            "                                                                                                  \n",
            " conv2d_14 (Conv2D)             (None, 256, 256, 12  295040      ['concatenate_2[0][0]']          \n",
            "                                8)                                                                \n",
            "                                                                                                  \n",
            " batch_normalization_14 (BatchN  (None, 256, 256, 12  512        ['conv2d_14[0][0]']              \n",
            " ormalization)                  8)                                                                \n",
            "                                                                                                  \n",
            " activation_14 (Activation)     (None, 256, 256, 12  0           ['batch_normalization_14[0][0]'] \n",
            "                                8)                                                                \n",
            "                                                                                                  \n",
            " conv2d_15 (Conv2D)             (None, 256, 256, 12  147584      ['activation_14[0][0]']          \n",
            "                                8)                                                                \n",
            "                                                                                                  \n",
            " batch_normalization_15 (BatchN  (None, 256, 256, 12  512        ['conv2d_15[0][0]']              \n",
            " ormalization)                  8)                                                                \n",
            "                                                                                                  \n",
            " activation_15 (Activation)     (None, 256, 256, 12  0           ['batch_normalization_15[0][0]'] \n",
            "                                8)                                                                \n",
            "                                                                                                  \n",
            " conv2d_transpose_3 (Conv2DTran  (None, 512, 512, 64  32832      ['activation_15[0][0]']          \n",
            " spose)                         )                                                                 \n",
            "                                                                                                  \n",
            " concatenate_3 (Concatenate)    (None, 512, 512, 12  0           ['conv2d_transpose_3[0][0]',     \n",
            "                                8)                                'activation_1[0][0]']           \n",
            "                                                                                                  \n",
            " conv2d_16 (Conv2D)             (None, 512, 512, 64  73792       ['concatenate_3[0][0]']          \n",
            "                                )                                                                 \n",
            "                                                                                                  \n",
            " batch_normalization_16 (BatchN  (None, 512, 512, 64  256        ['conv2d_16[0][0]']              \n",
            " ormalization)                  )                                                                 \n",
            "                                                                                                  \n",
            " activation_16 (Activation)     (None, 512, 512, 64  0           ['batch_normalization_16[0][0]'] \n",
            "                                )                                                                 \n",
            "                                                                                                  \n",
            " conv2d_17 (Conv2D)             (None, 512, 512, 64  36928       ['activation_16[0][0]']          \n",
            "                                )                                                                 \n",
            "                                                                                                  \n",
            " batch_normalization_17 (BatchN  (None, 512, 512, 64  256        ['conv2d_17[0][0]']              \n",
            " ormalization)                  )                                                                 \n",
            "                                                                                                  \n",
            " activation_17 (Activation)     (None, 512, 512, 64  0           ['batch_normalization_17[0][0]'] \n",
            "                                )                                                                 \n",
            "                                                                                                  \n",
            " conv2d_18 (Conv2D)             (None, 512, 512, 1)  65          ['activation_17[0][0]']          \n",
            "                                                                                                  \n",
            "==================================================================================================\n",
            "Total params: 31,055,297\n",
            "Trainable params: 31,043,521\n",
            "Non-trainable params: 11,776\n",
            "__________________________________________________________________________________________________\n"
          ]
        }
      ],
      "source": [
        "input_shape = (512, 512, 3)\n",
        "model = build_unet(input_shape)\n",
        "model.summary()"
      ]
    },
    {
      "cell_type": "markdown",
      "metadata": {
        "id": "j_OvqEVcGUk0"
      },
      "source": [
        "Train"
      ]
    },
    {
      "cell_type": "code",
      "execution_count": 16,
      "metadata": {
        "id": "UFsY4PIfGTtd"
      },
      "outputs": [],
      "source": [
        "H = 512\n",
        "W = 512"
      ]
    },
    {
      "cell_type": "code",
      "execution_count": 17,
      "metadata": {
        "id": "5vHl0X2pGY3O"
      },
      "outputs": [],
      "source": [
        "def create_dir(path):\n",
        "    if not os.path.exists(path):\n",
        "        os.makedirs(path)"
      ]
    },
    {
      "cell_type": "code",
      "execution_count": 18,
      "metadata": {
        "id": "4GXQeXsiGanx"
      },
      "outputs": [],
      "source": [
        "def load_data(path):\n",
        "    x = sorted(glob(os.path.join(path, \"image\", \"*.jpg\")))\n",
        "    y = sorted(glob(os.path.join(path, \"mask\", \"*.jpg\")))\n",
        "    return x, y"
      ]
    },
    {
      "cell_type": "code",
      "execution_count": 19,
      "metadata": {
        "id": "IzYpFNpGGc0J"
      },
      "outputs": [],
      "source": [
        "def shuffling(x, y):\n",
        "    x, y = shuffle(x, y, random_state=42)\n",
        "    return x, y"
      ]
    },
    {
      "cell_type": "code",
      "execution_count": 20,
      "metadata": {
        "id": "bhptGZWiGfZb"
      },
      "outputs": [],
      "source": [
        "def read_image(path):\n",
        "    path = path.decode()\n",
        "    x = cv2.imread(path, cv2.IMREAD_COLOR)\n",
        "    x = cv2.resize(x, (W, H))\n",
        "    x = x/255.0\n",
        "    x = x.astype(np.float32)\n",
        "    return x"
      ]
    },
    {
      "cell_type": "code",
      "execution_count": 21,
      "metadata": {
        "id": "yjbsh6FlGnb2"
      },
      "outputs": [],
      "source": [
        "def read_mask(path):\n",
        "    path = path.decode()\n",
        "    x = cv2.imread(path, cv2.IMREAD_GRAYSCALE)  ## (512, 512)\n",
        "    # x = cv2.resize(x, (W, H))\n",
        "    x = x/255.0\n",
        "    x = x.astype(np.float32)\n",
        "    x = np.expand_dims(x, axis=-1)              ## (512, 512, 1)\n",
        "    return x"
      ]
    },
    {
      "cell_type": "code",
      "execution_count": 22,
      "metadata": {
        "id": "5m-FCqE4GrdZ"
      },
      "outputs": [],
      "source": [
        "def tf_parse(x, y):\n",
        "    def _parse(x, y):\n",
        "        x = read_image(x)\n",
        "        y = read_mask(y)\n",
        "        return x, y\n",
        "\n",
        "    x, y = tf.numpy_function(_parse, [x, y], [tf.float32, tf.float32])\n",
        "    x.set_shape([H, W, 3])\n",
        "    y.set_shape([H, W, 1])\n",
        "    return x, y"
      ]
    },
    {
      "cell_type": "code",
      "execution_count": 23,
      "metadata": {
        "id": "XnsMRMjdGtU1"
      },
      "outputs": [],
      "source": [
        "def tf_dataset(X, Y, batch_size=2):\n",
        "    dataset = tf.data.Dataset.from_tensor_slices((X, Y))\n",
        "    dataset = dataset.map(tf_parse)\n",
        "    dataset = dataset.batch(batch_size)\n",
        "    dataset = dataset.prefetch(4)\n",
        "    return dataset"
      ]
    },
    {
      "cell_type": "code",
      "execution_count": 24,
      "metadata": {
        "id": "sy9xBy9pGxCO"
      },
      "outputs": [],
      "source": [
        "np.random.seed(42)\n",
        "tf.random.set_seed(42)"
      ]
    },
    {
      "cell_type": "code",
      "execution_count": 25,
      "metadata": {
        "id": "xyKhqqfVG0n2"
      },
      "outputs": [],
      "source": [
        "create_dir(\"files\")"
      ]
    },
    {
      "cell_type": "code",
      "execution_count": 26,
      "metadata": {
        "id": "f2Qk89j4G7Hr"
      },
      "outputs": [],
      "source": [
        "batch_size = 2\n",
        "lr = 1e-4\n",
        "num_epochs = 100\n",
        "model_path = os.path.join(\"files\", \"model.h5\")\n",
        "csv_path = os.path.join(\"files\", \"data.csv\")"
      ]
    },
    {
      "cell_type": "code",
      "execution_count": 27,
      "metadata": {
        "id": "I_p3CYdJHGPi"
      },
      "outputs": [],
      "source": [
        "dataset_path = \"new_data\"\n",
        "train_path = os.path.join(dataset_path, \"train\")\n",
        "valid_path = os.path.join(dataset_path, \"test\")"
      ]
    },
    {
      "cell_type": "code",
      "execution_count": 28,
      "metadata": {
        "id": "c-xu8xu6HJXR"
      },
      "outputs": [],
      "source": [
        "train_x, train_y = load_data(train_path)\n",
        "train_x, train_y = shuffling(train_x, train_y)\n",
        "valid_x, valid_y = load_data(valid_path)"
      ]
    },
    {
      "cell_type": "code",
      "execution_count": 29,
      "metadata": {
        "colab": {
          "base_uri": "https://localhost:8080/"
        },
        "id": "8riYVDgOHMHh",
        "outputId": "b804d523-1f17-454d-ded4-f3ca2480225f"
      },
      "outputs": [
        {
          "output_type": "stream",
          "name": "stdout",
          "text": [
            "Train: 120 - 120\n",
            "Valid: 120 - 120\n"
          ]
        }
      ],
      "source": [
        "print(f\"Train: {len(train_x)} - {len(train_y)}\")\n",
        "print(f\"Valid: {len(valid_x)} - {len(valid_y)}\")"
      ]
    },
    {
      "cell_type": "code",
      "execution_count": 30,
      "metadata": {
        "id": "znp68eugHQUZ"
      },
      "outputs": [],
      "source": [
        "train_dataset = tf_dataset(train_x, train_y, batch_size=batch_size)\n",
        "valid_dataset = tf_dataset(valid_x, valid_y, batch_size=batch_size)"
      ]
    },
    {
      "cell_type": "code",
      "execution_count": 31,
      "metadata": {
        "id": "BNA6y4MgHT5N"
      },
      "outputs": [],
      "source": [
        "train_steps = len(train_x)//batch_size\n",
        "valid_setps = len(valid_x)//batch_size"
      ]
    },
    {
      "cell_type": "code",
      "execution_count": 32,
      "metadata": {
        "id": "lDeL3Ng6HWQZ"
      },
      "outputs": [],
      "source": [
        "if len(train_x) % batch_size != 0:\n",
        "        train_steps += 1\n",
        "if len(valid_x) % batch_size != 0:\n",
        "    valid_setps += 1"
      ]
    },
    {
      "cell_type": "code",
      "execution_count": 33,
      "metadata": {
        "colab": {
          "base_uri": "https://localhost:8080/"
        },
        "id": "vk_h13iJHcjh",
        "outputId": "c9c61f4c-c947-4f5a-ffba-0d73eb56f48b"
      },
      "outputs": [
        {
          "output_type": "stream",
          "name": "stdout",
          "text": [
            "Model: \"UNET\"\n",
            "__________________________________________________________________________________________________\n",
            " Layer (type)                   Output Shape         Param #     Connected to                     \n",
            "==================================================================================================\n",
            " input_2 (InputLayer)           [(None, 512, 512, 3  0           []                               \n",
            "                                )]                                                                \n",
            "                                                                                                  \n",
            " conv2d_19 (Conv2D)             (None, 512, 512, 64  1792        ['input_2[0][0]']                \n",
            "                                )                                                                 \n",
            "                                                                                                  \n",
            " batch_normalization_18 (BatchN  (None, 512, 512, 64  256        ['conv2d_19[0][0]']              \n",
            " ormalization)                  )                                                                 \n",
            "                                                                                                  \n",
            " activation_18 (Activation)     (None, 512, 512, 64  0           ['batch_normalization_18[0][0]'] \n",
            "                                )                                                                 \n",
            "                                                                                                  \n",
            " conv2d_20 (Conv2D)             (None, 512, 512, 64  36928       ['activation_18[0][0]']          \n",
            "                                )                                                                 \n",
            "                                                                                                  \n",
            " batch_normalization_19 (BatchN  (None, 512, 512, 64  256        ['conv2d_20[0][0]']              \n",
            " ormalization)                  )                                                                 \n",
            "                                                                                                  \n",
            " activation_19 (Activation)     (None, 512, 512, 64  0           ['batch_normalization_19[0][0]'] \n",
            "                                )                                                                 \n",
            "                                                                                                  \n",
            " max_pooling2d_4 (MaxPooling2D)  (None, 256, 256, 64  0          ['activation_19[0][0]']          \n",
            "                                )                                                                 \n",
            "                                                                                                  \n",
            " conv2d_21 (Conv2D)             (None, 256, 256, 12  73856       ['max_pooling2d_4[0][0]']        \n",
            "                                8)                                                                \n",
            "                                                                                                  \n",
            " batch_normalization_20 (BatchN  (None, 256, 256, 12  512        ['conv2d_21[0][0]']              \n",
            " ormalization)                  8)                                                                \n",
            "                                                                                                  \n",
            " activation_20 (Activation)     (None, 256, 256, 12  0           ['batch_normalization_20[0][0]'] \n",
            "                                8)                                                                \n",
            "                                                                                                  \n",
            " conv2d_22 (Conv2D)             (None, 256, 256, 12  147584      ['activation_20[0][0]']          \n",
            "                                8)                                                                \n",
            "                                                                                                  \n",
            " batch_normalization_21 (BatchN  (None, 256, 256, 12  512        ['conv2d_22[0][0]']              \n",
            " ormalization)                  8)                                                                \n",
            "                                                                                                  \n",
            " activation_21 (Activation)     (None, 256, 256, 12  0           ['batch_normalization_21[0][0]'] \n",
            "                                8)                                                                \n",
            "                                                                                                  \n",
            " max_pooling2d_5 (MaxPooling2D)  (None, 128, 128, 12  0          ['activation_21[0][0]']          \n",
            "                                8)                                                                \n",
            "                                                                                                  \n",
            " conv2d_23 (Conv2D)             (None, 128, 128, 25  295168      ['max_pooling2d_5[0][0]']        \n",
            "                                6)                                                                \n",
            "                                                                                                  \n",
            " batch_normalization_22 (BatchN  (None, 128, 128, 25  1024       ['conv2d_23[0][0]']              \n",
            " ormalization)                  6)                                                                \n",
            "                                                                                                  \n",
            " activation_22 (Activation)     (None, 128, 128, 25  0           ['batch_normalization_22[0][0]'] \n",
            "                                6)                                                                \n",
            "                                                                                                  \n",
            " conv2d_24 (Conv2D)             (None, 128, 128, 25  590080      ['activation_22[0][0]']          \n",
            "                                6)                                                                \n",
            "                                                                                                  \n",
            " batch_normalization_23 (BatchN  (None, 128, 128, 25  1024       ['conv2d_24[0][0]']              \n",
            " ormalization)                  6)                                                                \n",
            "                                                                                                  \n",
            " activation_23 (Activation)     (None, 128, 128, 25  0           ['batch_normalization_23[0][0]'] \n",
            "                                6)                                                                \n",
            "                                                                                                  \n",
            " max_pooling2d_6 (MaxPooling2D)  (None, 64, 64, 256)  0          ['activation_23[0][0]']          \n",
            "                                                                                                  \n",
            " conv2d_25 (Conv2D)             (None, 64, 64, 512)  1180160     ['max_pooling2d_6[0][0]']        \n",
            "                                                                                                  \n",
            " batch_normalization_24 (BatchN  (None, 64, 64, 512)  2048       ['conv2d_25[0][0]']              \n",
            " ormalization)                                                                                    \n",
            "                                                                                                  \n",
            " activation_24 (Activation)     (None, 64, 64, 512)  0           ['batch_normalization_24[0][0]'] \n",
            "                                                                                                  \n",
            " conv2d_26 (Conv2D)             (None, 64, 64, 512)  2359808     ['activation_24[0][0]']          \n",
            "                                                                                                  \n",
            " batch_normalization_25 (BatchN  (None, 64, 64, 512)  2048       ['conv2d_26[0][0]']              \n",
            " ormalization)                                                                                    \n",
            "                                                                                                  \n",
            " activation_25 (Activation)     (None, 64, 64, 512)  0           ['batch_normalization_25[0][0]'] \n",
            "                                                                                                  \n",
            " max_pooling2d_7 (MaxPooling2D)  (None, 32, 32, 512)  0          ['activation_25[0][0]']          \n",
            "                                                                                                  \n",
            " conv2d_27 (Conv2D)             (None, 32, 32, 1024  4719616     ['max_pooling2d_7[0][0]']        \n",
            "                                )                                                                 \n",
            "                                                                                                  \n",
            " batch_normalization_26 (BatchN  (None, 32, 32, 1024  4096       ['conv2d_27[0][0]']              \n",
            " ormalization)                  )                                                                 \n",
            "                                                                                                  \n",
            " activation_26 (Activation)     (None, 32, 32, 1024  0           ['batch_normalization_26[0][0]'] \n",
            "                                )                                                                 \n",
            "                                                                                                  \n",
            " conv2d_28 (Conv2D)             (None, 32, 32, 1024  9438208     ['activation_26[0][0]']          \n",
            "                                )                                                                 \n",
            "                                                                                                  \n",
            " batch_normalization_27 (BatchN  (None, 32, 32, 1024  4096       ['conv2d_28[0][0]']              \n",
            " ormalization)                  )                                                                 \n",
            "                                                                                                  \n",
            " activation_27 (Activation)     (None, 32, 32, 1024  0           ['batch_normalization_27[0][0]'] \n",
            "                                )                                                                 \n",
            "                                                                                                  \n",
            " conv2d_transpose_4 (Conv2DTran  (None, 64, 64, 512)  2097664    ['activation_27[0][0]']          \n",
            " spose)                                                                                           \n",
            "                                                                                                  \n",
            " concatenate_4 (Concatenate)    (None, 64, 64, 1024  0           ['conv2d_transpose_4[0][0]',     \n",
            "                                )                                 'activation_25[0][0]']          \n",
            "                                                                                                  \n",
            " conv2d_29 (Conv2D)             (None, 64, 64, 512)  4719104     ['concatenate_4[0][0]']          \n",
            "                                                                                                  \n",
            " batch_normalization_28 (BatchN  (None, 64, 64, 512)  2048       ['conv2d_29[0][0]']              \n",
            " ormalization)                                                                                    \n",
            "                                                                                                  \n",
            " activation_28 (Activation)     (None, 64, 64, 512)  0           ['batch_normalization_28[0][0]'] \n",
            "                                                                                                  \n",
            " conv2d_30 (Conv2D)             (None, 64, 64, 512)  2359808     ['activation_28[0][0]']          \n",
            "                                                                                                  \n",
            " batch_normalization_29 (BatchN  (None, 64, 64, 512)  2048       ['conv2d_30[0][0]']              \n",
            " ormalization)                                                                                    \n",
            "                                                                                                  \n",
            " activation_29 (Activation)     (None, 64, 64, 512)  0           ['batch_normalization_29[0][0]'] \n",
            "                                                                                                  \n",
            " conv2d_transpose_5 (Conv2DTran  (None, 128, 128, 25  524544     ['activation_29[0][0]']          \n",
            " spose)                         6)                                                                \n",
            "                                                                                                  \n",
            " concatenate_5 (Concatenate)    (None, 128, 128, 51  0           ['conv2d_transpose_5[0][0]',     \n",
            "                                2)                                'activation_23[0][0]']          \n",
            "                                                                                                  \n",
            " conv2d_31 (Conv2D)             (None, 128, 128, 25  1179904     ['concatenate_5[0][0]']          \n",
            "                                6)                                                                \n",
            "                                                                                                  \n",
            " batch_normalization_30 (BatchN  (None, 128, 128, 25  1024       ['conv2d_31[0][0]']              \n",
            " ormalization)                  6)                                                                \n",
            "                                                                                                  \n",
            " activation_30 (Activation)     (None, 128, 128, 25  0           ['batch_normalization_30[0][0]'] \n",
            "                                6)                                                                \n",
            "                                                                                                  \n",
            " conv2d_32 (Conv2D)             (None, 128, 128, 25  590080      ['activation_30[0][0]']          \n",
            "                                6)                                                                \n",
            "                                                                                                  \n",
            " batch_normalization_31 (BatchN  (None, 128, 128, 25  1024       ['conv2d_32[0][0]']              \n",
            " ormalization)                  6)                                                                \n",
            "                                                                                                  \n",
            " activation_31 (Activation)     (None, 128, 128, 25  0           ['batch_normalization_31[0][0]'] \n",
            "                                6)                                                                \n",
            "                                                                                                  \n",
            " conv2d_transpose_6 (Conv2DTran  (None, 256, 256, 12  131200     ['activation_31[0][0]']          \n",
            " spose)                         8)                                                                \n",
            "                                                                                                  \n",
            " concatenate_6 (Concatenate)    (None, 256, 256, 25  0           ['conv2d_transpose_6[0][0]',     \n",
            "                                6)                                'activation_21[0][0]']          \n",
            "                                                                                                  \n",
            " conv2d_33 (Conv2D)             (None, 256, 256, 12  295040      ['concatenate_6[0][0]']          \n",
            "                                8)                                                                \n",
            "                                                                                                  \n",
            " batch_normalization_32 (BatchN  (None, 256, 256, 12  512        ['conv2d_33[0][0]']              \n",
            " ormalization)                  8)                                                                \n",
            "                                                                                                  \n",
            " activation_32 (Activation)     (None, 256, 256, 12  0           ['batch_normalization_32[0][0]'] \n",
            "                                8)                                                                \n",
            "                                                                                                  \n",
            " conv2d_34 (Conv2D)             (None, 256, 256, 12  147584      ['activation_32[0][0]']          \n",
            "                                8)                                                                \n",
            "                                                                                                  \n",
            " batch_normalization_33 (BatchN  (None, 256, 256, 12  512        ['conv2d_34[0][0]']              \n",
            " ormalization)                  8)                                                                \n",
            "                                                                                                  \n",
            " activation_33 (Activation)     (None, 256, 256, 12  0           ['batch_normalization_33[0][0]'] \n",
            "                                8)                                                                \n",
            "                                                                                                  \n",
            " conv2d_transpose_7 (Conv2DTran  (None, 512, 512, 64  32832      ['activation_33[0][0]']          \n",
            " spose)                         )                                                                 \n",
            "                                                                                                  \n",
            " concatenate_7 (Concatenate)    (None, 512, 512, 12  0           ['conv2d_transpose_7[0][0]',     \n",
            "                                8)                                'activation_19[0][0]']          \n",
            "                                                                                                  \n",
            " conv2d_35 (Conv2D)             (None, 512, 512, 64  73792       ['concatenate_7[0][0]']          \n",
            "                                )                                                                 \n",
            "                                                                                                  \n",
            " batch_normalization_34 (BatchN  (None, 512, 512, 64  256        ['conv2d_35[0][0]']              \n",
            " ormalization)                  )                                                                 \n",
            "                                                                                                  \n",
            " activation_34 (Activation)     (None, 512, 512, 64  0           ['batch_normalization_34[0][0]'] \n",
            "                                )                                                                 \n",
            "                                                                                                  \n",
            " conv2d_36 (Conv2D)             (None, 512, 512, 64  36928       ['activation_34[0][0]']          \n",
            "                                )                                                                 \n",
            "                                                                                                  \n",
            " batch_normalization_35 (BatchN  (None, 512, 512, 64  256        ['conv2d_36[0][0]']              \n",
            " ormalization)                  )                                                                 \n",
            "                                                                                                  \n",
            " activation_35 (Activation)     (None, 512, 512, 64  0           ['batch_normalization_35[0][0]'] \n",
            "                                )                                                                 \n",
            "                                                                                                  \n",
            " conv2d_37 (Conv2D)             (None, 512, 512, 1)  65          ['activation_35[0][0]']          \n",
            "                                                                                                  \n",
            "==================================================================================================\n",
            "Total params: 31,055,297\n",
            "Trainable params: 31,043,521\n",
            "Non-trainable params: 11,776\n",
            "__________________________________________________________________________________________________\n"
          ]
        }
      ],
      "source": [
        "model = build_unet((H, W, 3))\n",
        "model.compile(loss=dice_loss, optimizer=Adam(lr), metrics=[dice_coef, iou, Recall(), Precision()])\n",
        "model.summary()"
      ]
    },
    {
      "cell_type": "code",
      "execution_count": 34,
      "metadata": {
        "id": "ykj8zrqBHiix"
      },
      "outputs": [],
      "source": [
        "callbacks = [\n",
        "        ModelCheckpoint(model_path, verbose=1, save_best_only=True),\n",
        "        ReduceLROnPlateau(monitor=\"val_loss\", factor=0.1, patience=5, min_lr=1e-6, verbose=1),\n",
        "        CSVLogger(csv_path),\n",
        "        TensorBoard(),\n",
        "        EarlyStopping(monitor=\"val_loss\", patience=10, restore_best_weights=False)\n",
        "    ]"
      ]
    },
    {
      "cell_type": "code",
      "execution_count": 35,
      "metadata": {
        "colab": {
          "base_uri": "https://localhost:8080/"
        },
        "id": "2bvEd11zHmJc",
        "outputId": "71f18455-b125-46cd-ba88-ef9d28c52ab7"
      },
      "outputs": [
        {
          "output_type": "stream",
          "name": "stdout",
          "text": [
            "Epoch 1/100\n",
            "60/60 [==============================] - ETA: 0s - loss: 0.6246 - dice_coef: 0.3754 - iou: 0.2361 - recall: 0.5217 - precision: 0.5025\n",
            "Epoch 1: val_loss improved from inf to 0.86075, saving model to files/model.h5\n",
            "60/60 [==============================] - 68s 724ms/step - loss: 0.6246 - dice_coef: 0.3754 - iou: 0.2361 - recall: 0.5217 - precision: 0.5025 - val_loss: 0.8608 - val_dice_coef: 0.1392 - val_iou: 0.0749 - val_recall: 0.0000e+00 - val_precision: 0.0000e+00 - lr: 1.0000e-04\n",
            "Epoch 2/100\n",
            "60/60 [==============================] - ETA: 0s - loss: 0.4476 - dice_coef: 0.5524 - iou: 0.3824 - recall: 0.4229 - precision: 0.8232\n",
            "Epoch 2: val_loss did not improve from 0.86075\n",
            "60/60 [==============================] - 40s 667ms/step - loss: 0.4476 - dice_coef: 0.5524 - iou: 0.3824 - recall: 0.4229 - precision: 0.8232 - val_loss: 0.8956 - val_dice_coef: 0.1044 - val_iou: 0.0551 - val_recall: 0.0000e+00 - val_precision: 0.0000e+00 - lr: 1.0000e-04\n",
            "Epoch 3/100\n",
            "60/60 [==============================] - ETA: 0s - loss: 0.3980 - dice_coef: 0.6020 - iou: 0.4312 - recall: 0.4135 - precision: 0.8638\n",
            "Epoch 3: val_loss did not improve from 0.86075\n",
            "60/60 [==============================] - 40s 671ms/step - loss: 0.3980 - dice_coef: 0.6020 - iou: 0.4312 - recall: 0.4135 - precision: 0.8638 - val_loss: 0.9250 - val_dice_coef: 0.0750 - val_iou: 0.0390 - val_recall: 0.0000e+00 - val_precision: 0.0000e+00 - lr: 1.0000e-04\n",
            "Epoch 4/100\n",
            "60/60 [==============================] - ETA: 0s - loss: 0.3644 - dice_coef: 0.6356 - iou: 0.4664 - recall: 0.4112 - precision: 0.8904\n",
            "Epoch 4: val_loss did not improve from 0.86075\n",
            "60/60 [==============================] - 40s 677ms/step - loss: 0.3644 - dice_coef: 0.6356 - iou: 0.4664 - recall: 0.4112 - precision: 0.8904 - val_loss: 0.9492 - val_dice_coef: 0.0508 - val_iou: 0.0261 - val_recall: 0.0023 - val_precision: 0.0606 - lr: 1.0000e-04\n",
            "Epoch 5/100\n",
            "60/60 [==============================] - ETA: 0s - loss: 0.3386 - dice_coef: 0.6614 - iou: 0.4947 - recall: 0.4089 - precision: 0.9079\n",
            "Epoch 5: val_loss did not improve from 0.86075\n",
            "60/60 [==============================] - 40s 674ms/step - loss: 0.3386 - dice_coef: 0.6614 - iou: 0.4947 - recall: 0.4089 - precision: 0.9079 - val_loss: 0.9375 - val_dice_coef: 0.0625 - val_iou: 0.0324 - val_recall: 0.0134 - val_precision: 0.1186 - lr: 1.0000e-04\n",
            "Epoch 6/100\n",
            "60/60 [==============================] - ETA: 0s - loss: 0.3168 - dice_coef: 0.6832 - iou: 0.5194 - recall: 0.4079 - precision: 0.9219\n",
            "Epoch 6: val_loss improved from 0.86075 to 0.82476, saving model to files/model.h5\n",
            "60/60 [==============================] - 46s 770ms/step - loss: 0.3168 - dice_coef: 0.6832 - iou: 0.5194 - recall: 0.4079 - precision: 0.9219 - val_loss: 0.8248 - val_dice_coef: 0.1752 - val_iou: 0.0972 - val_recall: 0.0595 - val_precision: 0.3361 - lr: 1.0000e-04\n",
            "Epoch 7/100\n",
            "60/60 [==============================] - ETA: 0s - loss: 0.2980 - dice_coef: 0.7020 - iou: 0.5413 - recall: 0.4080 - precision: 0.9329\n",
            "Epoch 7: val_loss improved from 0.82476 to 0.63561, saving model to files/model.h5\n",
            "60/60 [==============================] - 42s 698ms/step - loss: 0.2980 - dice_coef: 0.7020 - iou: 0.5413 - recall: 0.4080 - precision: 0.9329 - val_loss: 0.6356 - val_dice_coef: 0.3644 - val_iou: 0.2253 - val_recall: 0.1448 - val_precision: 0.5702 - lr: 1.0000e-04\n",
            "Epoch 8/100\n",
            "60/60 [==============================] - ETA: 0s - loss: 0.2836 - dice_coef: 0.7164 - iou: 0.5586 - recall: 0.4070 - precision: 0.9401\n",
            "Epoch 8: val_loss improved from 0.63561 to 0.52381, saving model to files/model.h5\n",
            "60/60 [==============================] - 43s 711ms/step - loss: 0.2836 - dice_coef: 0.7164 - iou: 0.5586 - recall: 0.4070 - precision: 0.9401 - val_loss: 0.5238 - val_dice_coef: 0.4762 - val_iou: 0.3151 - val_recall: 0.2062 - val_precision: 0.6707 - lr: 1.0000e-04\n",
            "Epoch 9/100\n",
            "60/60 [==============================] - ETA: 0s - loss: 0.2720 - dice_coef: 0.7280 - iou: 0.5727 - recall: 0.4065 - precision: 0.9446\n",
            "Epoch 9: val_loss improved from 0.52381 to 0.39729, saving model to files/model.h5\n",
            "60/60 [==============================] - 52s 872ms/step - loss: 0.2720 - dice_coef: 0.7280 - iou: 0.5727 - recall: 0.4065 - precision: 0.9446 - val_loss: 0.3973 - val_dice_coef: 0.6027 - val_iou: 0.4338 - val_recall: 0.2723 - val_precision: 0.8522 - lr: 1.0000e-04\n",
            "Epoch 10/100\n",
            "60/60 [==============================] - ETA: 0s - loss: 0.2632 - dice_coef: 0.7368 - iou: 0.5838 - recall: 0.4054 - precision: 0.9480\n",
            "Epoch 10: val_loss improved from 0.39729 to 0.32358, saving model to files/model.h5\n",
            "60/60 [==============================] - 42s 702ms/step - loss: 0.2632 - dice_coef: 0.7368 - iou: 0.5838 - recall: 0.4054 - precision: 0.9480 - val_loss: 0.3236 - val_dice_coef: 0.6764 - val_iou: 0.5125 - val_recall: 0.3102 - val_precision: 0.9618 - lr: 1.0000e-04\n",
            "Epoch 11/100\n",
            "60/60 [==============================] - ETA: 0s - loss: 0.2528 - dice_coef: 0.7472 - iou: 0.5969 - recall: 0.4056 - precision: 0.9525\n",
            "Epoch 11: val_loss improved from 0.32358 to 0.31562, saving model to files/model.h5\n",
            "60/60 [==============================] - 42s 698ms/step - loss: 0.2528 - dice_coef: 0.7472 - iou: 0.5969 - recall: 0.4056 - precision: 0.9525 - val_loss: 0.3156 - val_dice_coef: 0.6844 - val_iou: 0.5218 - val_recall: 0.3169 - val_precision: 0.9606 - lr: 1.0000e-04\n",
            "Epoch 12/100\n",
            "60/60 [==============================] - ETA: 0s - loss: 0.2447 - dice_coef: 0.7553 - iou: 0.6073 - recall: 0.4056 - precision: 0.9559\n",
            "Epoch 12: val_loss improved from 0.31562 to 0.30452, saving model to files/model.h5\n",
            "60/60 [==============================] - 42s 706ms/step - loss: 0.2447 - dice_coef: 0.7553 - iou: 0.6073 - recall: 0.4056 - precision: 0.9559 - val_loss: 0.3045 - val_dice_coef: 0.6955 - val_iou: 0.5342 - val_recall: 0.3298 - val_precision: 0.9571 - lr: 1.0000e-04\n",
            "Epoch 13/100\n",
            "60/60 [==============================] - ETA: 0s - loss: 0.2359 - dice_coef: 0.7641 - iou: 0.6186 - recall: 0.4059 - precision: 0.9598\n",
            "Epoch 13: val_loss improved from 0.30452 to 0.28706, saving model to files/model.h5\n",
            "60/60 [==============================] - 41s 689ms/step - loss: 0.2359 - dice_coef: 0.7641 - iou: 0.6186 - recall: 0.4059 - precision: 0.9598 - val_loss: 0.2871 - val_dice_coef: 0.7129 - val_iou: 0.5549 - val_recall: 0.3611 - val_precision: 0.9480 - lr: 1.0000e-04\n",
            "Epoch 14/100\n",
            "60/60 [==============================] - ETA: 0s - loss: 0.2286 - dice_coef: 0.7714 - iou: 0.6282 - recall: 0.4062 - precision: 0.9625\n",
            "Epoch 14: val_loss improved from 0.28706 to 0.28514, saving model to files/model.h5\n",
            "60/60 [==============================] - 42s 700ms/step - loss: 0.2286 - dice_coef: 0.7714 - iou: 0.6282 - recall: 0.4062 - precision: 0.9625 - val_loss: 0.2851 - val_dice_coef: 0.7149 - val_iou: 0.5572 - val_recall: 0.3425 - val_precision: 0.9566 - lr: 1.0000e-04\n",
            "Epoch 15/100\n",
            "60/60 [==============================] - ETA: 0s - loss: 0.2239 - dice_coef: 0.7761 - iou: 0.6346 - recall: 0.4066 - precision: 0.9639\n",
            "Epoch 15: val_loss improved from 0.28514 to 0.28391, saving model to files/model.h5\n",
            "60/60 [==============================] - 42s 696ms/step - loss: 0.2239 - dice_coef: 0.7761 - iou: 0.6346 - recall: 0.4066 - precision: 0.9639 - val_loss: 0.2839 - val_dice_coef: 0.7161 - val_iou: 0.5587 - val_recall: 0.3353 - val_precision: 0.9590 - lr: 1.0000e-04\n",
            "Epoch 16/100\n",
            "60/60 [==============================] - ETA: 0s - loss: 0.2176 - dice_coef: 0.7824 - iou: 0.6431 - recall: 0.4061 - precision: 0.9668\n",
            "Epoch 16: val_loss improved from 0.28391 to 0.27359, saving model to files/model.h5\n",
            "60/60 [==============================] - 42s 700ms/step - loss: 0.2176 - dice_coef: 0.7824 - iou: 0.6431 - recall: 0.4061 - precision: 0.9668 - val_loss: 0.2736 - val_dice_coef: 0.7264 - val_iou: 0.5712 - val_recall: 0.3632 - val_precision: 0.9461 - lr: 1.0000e-04\n",
            "Epoch 17/100\n",
            "60/60 [==============================] - ETA: 0s - loss: 0.2114 - dice_coef: 0.7886 - iou: 0.6514 - recall: 0.4053 - precision: 0.9697\n",
            "Epoch 17: val_loss improved from 0.27359 to 0.27147, saving model to files/model.h5\n",
            "60/60 [==============================] - 42s 702ms/step - loss: 0.2114 - dice_coef: 0.7886 - iou: 0.6514 - recall: 0.4053 - precision: 0.9697 - val_loss: 0.2715 - val_dice_coef: 0.7285 - val_iou: 0.5737 - val_recall: 0.3617 - val_precision: 0.9447 - lr: 1.0000e-04\n",
            "Epoch 18/100\n",
            "60/60 [==============================] - ETA: 0s - loss: 0.2072 - dice_coef: 0.7928 - iou: 0.6572 - recall: 0.4060 - precision: 0.9710\n",
            "Epoch 18: val_loss did not improve from 0.27147\n",
            "60/60 [==============================] - 40s 671ms/step - loss: 0.2072 - dice_coef: 0.7928 - iou: 0.6572 - recall: 0.4060 - precision: 0.9710 - val_loss: 0.2750 - val_dice_coef: 0.7250 - val_iou: 0.5695 - val_recall: 0.3433 - val_precision: 0.9531 - lr: 1.0000e-04\n",
            "Epoch 19/100\n",
            "60/60 [==============================] - ETA: 0s - loss: 0.2050 - dice_coef: 0.7950 - iou: 0.6601 - recall: 0.4064 - precision: 0.9712\n",
            "Epoch 19: val_loss did not improve from 0.27147\n",
            "60/60 [==============================] - 40s 671ms/step - loss: 0.2050 - dice_coef: 0.7950 - iou: 0.6601 - recall: 0.4064 - precision: 0.9712 - val_loss: 0.2760 - val_dice_coef: 0.7240 - val_iou: 0.5682 - val_recall: 0.3402 - val_precision: 0.9552 - lr: 1.0000e-04\n",
            "Epoch 20/100\n",
            "60/60 [==============================] - ETA: 0s - loss: 0.2003 - dice_coef: 0.7997 - iou: 0.6666 - recall: 0.4066 - precision: 0.9731\n",
            "Epoch 20: val_loss did not improve from 0.27147\n",
            "60/60 [==============================] - 40s 671ms/step - loss: 0.2003 - dice_coef: 0.7997 - iou: 0.6666 - recall: 0.4066 - precision: 0.9731 - val_loss: 0.2820 - val_dice_coef: 0.7180 - val_iou: 0.5610 - val_recall: 0.3270 - val_precision: 0.9601 - lr: 1.0000e-04\n",
            "Epoch 21/100\n",
            "60/60 [==============================] - ETA: 0s - loss: 0.1949 - dice_coef: 0.8051 - iou: 0.6741 - recall: 0.4056 - precision: 0.9760\n",
            "Epoch 21: val_loss did not improve from 0.27147\n",
            "60/60 [==============================] - 40s 672ms/step - loss: 0.1949 - dice_coef: 0.8051 - iou: 0.6741 - recall: 0.4056 - precision: 0.9760 - val_loss: 0.2817 - val_dice_coef: 0.7183 - val_iou: 0.5612 - val_recall: 0.3347 - val_precision: 0.9534 - lr: 1.0000e-04\n",
            "Epoch 22/100\n",
            "60/60 [==============================] - ETA: 0s - loss: 0.1944 - dice_coef: 0.8056 - iou: 0.6749 - recall: 0.4056 - precision: 0.9756\n",
            "Epoch 22: val_loss did not improve from 0.27147\n",
            "\n",
            "Epoch 22: ReduceLROnPlateau reducing learning rate to 9.999999747378752e-06.\n",
            "60/60 [==============================] - 40s 672ms/step - loss: 0.1944 - dice_coef: 0.8056 - iou: 0.6749 - recall: 0.4056 - precision: 0.9756 - val_loss: 0.2905 - val_dice_coef: 0.7095 - val_iou: 0.5509 - val_recall: 0.3126 - val_precision: 0.9628 - lr: 1.0000e-04\n",
            "Epoch 23/100\n",
            "60/60 [==============================] - ETA: 0s - loss: 0.1871 - dice_coef: 0.8129 - iou: 0.6852 - recall: 0.4075 - precision: 0.9787\n",
            "Epoch 23: val_loss improved from 0.27147 to 0.26703, saving model to files/model.h5\n",
            "60/60 [==============================] - 42s 702ms/step - loss: 0.1871 - dice_coef: 0.8129 - iou: 0.6852 - recall: 0.4075 - precision: 0.9787 - val_loss: 0.2670 - val_dice_coef: 0.7330 - val_iou: 0.5796 - val_recall: 0.3397 - val_precision: 0.9593 - lr: 1.0000e-05\n",
            "Epoch 24/100\n",
            "60/60 [==============================] - ETA: 0s - loss: 0.1790 - dice_coef: 0.8210 - iou: 0.6968 - recall: 0.4077 - precision: 0.9836\n",
            "Epoch 24: val_loss did not improve from 0.26703\n",
            "60/60 [==============================] - 40s 673ms/step - loss: 0.1790 - dice_coef: 0.8210 - iou: 0.6968 - recall: 0.4077 - precision: 0.9836 - val_loss: 0.2682 - val_dice_coef: 0.7318 - val_iou: 0.5782 - val_recall: 0.3359 - val_precision: 0.9613 - lr: 1.0000e-05\n",
            "Epoch 25/100\n",
            "60/60 [==============================] - ETA: 0s - loss: 0.1755 - dice_coef: 0.8245 - iou: 0.7018 - recall: 0.4077 - precision: 0.9855\n",
            "Epoch 25: val_loss did not improve from 0.26703\n",
            "60/60 [==============================] - 50s 847ms/step - loss: 0.1755 - dice_coef: 0.8245 - iou: 0.7018 - recall: 0.4077 - precision: 0.9855 - val_loss: 0.2690 - val_dice_coef: 0.7310 - val_iou: 0.5772 - val_recall: 0.3339 - val_precision: 0.9621 - lr: 1.0000e-05\n",
            "Epoch 26/100\n",
            "60/60 [==============================] - ETA: 0s - loss: 0.1729 - dice_coef: 0.8271 - iou: 0.7056 - recall: 0.4076 - precision: 0.9869\n",
            "Epoch 26: val_loss did not improve from 0.26703\n",
            "60/60 [==============================] - 51s 854ms/step - loss: 0.1729 - dice_coef: 0.8271 - iou: 0.7056 - recall: 0.4076 - precision: 0.9869 - val_loss: 0.2697 - val_dice_coef: 0.7303 - val_iou: 0.5764 - val_recall: 0.3326 - val_precision: 0.9625 - lr: 1.0000e-05\n",
            "Epoch 27/100\n",
            "60/60 [==============================] - ETA: 0s - loss: 0.1707 - dice_coef: 0.8293 - iou: 0.7087 - recall: 0.4076 - precision: 0.9880\n",
            "Epoch 27: val_loss did not improve from 0.26703\n",
            "60/60 [==============================] - 51s 849ms/step - loss: 0.1707 - dice_coef: 0.8293 - iou: 0.7087 - recall: 0.4076 - precision: 0.9880 - val_loss: 0.2702 - val_dice_coef: 0.7298 - val_iou: 0.5757 - val_recall: 0.3317 - val_precision: 0.9626 - lr: 1.0000e-05\n",
            "Epoch 28/100\n",
            "60/60 [==============================] - ETA: 0s - loss: 0.1688 - dice_coef: 0.8312 - iou: 0.7115 - recall: 0.4076 - precision: 0.9889\n",
            "Epoch 28: val_loss did not improve from 0.26703\n",
            "\n",
            "Epoch 28: ReduceLROnPlateau reducing learning rate to 1e-06.\n",
            "60/60 [==============================] - 51s 851ms/step - loss: 0.1688 - dice_coef: 0.8312 - iou: 0.7115 - recall: 0.4076 - precision: 0.9889 - val_loss: 0.2706 - val_dice_coef: 0.7294 - val_iou: 0.5752 - val_recall: 0.3310 - val_precision: 0.9626 - lr: 1.0000e-05\n",
            "Epoch 29/100\n",
            "60/60 [==============================] - ETA: 0s - loss: 0.1677 - dice_coef: 0.8323 - iou: 0.7131 - recall: 0.4051 - precision: 0.9898\n",
            "Epoch 29: val_loss improved from 0.26703 to 0.26676, saving model to files/model.h5\n",
            "60/60 [==============================] - 52s 867ms/step - loss: 0.1677 - dice_coef: 0.8323 - iou: 0.7131 - recall: 0.4051 - precision: 0.9898 - val_loss: 0.2668 - val_dice_coef: 0.7332 - val_iou: 0.5799 - val_recall: 0.3394 - val_precision: 0.9597 - lr: 1.0000e-06\n",
            "Epoch 30/100\n",
            "60/60 [==============================] - ETA: 0s - loss: 0.1671 - dice_coef: 0.8329 - iou: 0.7141 - recall: 0.4074 - precision: 0.9897\n",
            "Epoch 30: val_loss improved from 0.26676 to 0.26636, saving model to files/model.h5\n",
            "60/60 [==============================] - 42s 707ms/step - loss: 0.1671 - dice_coef: 0.8329 - iou: 0.7141 - recall: 0.4074 - precision: 0.9897 - val_loss: 0.2664 - val_dice_coef: 0.7336 - val_iou: 0.5804 - val_recall: 0.3404 - val_precision: 0.9593 - lr: 1.0000e-06\n",
            "Epoch 31/100\n",
            "60/60 [==============================] - ETA: 0s - loss: 0.1668 - dice_coef: 0.8332 - iou: 0.7144 - recall: 0.4076 - precision: 0.9898\n",
            "Epoch 31: val_loss did not improve from 0.26636\n",
            "60/60 [==============================] - 51s 848ms/step - loss: 0.1668 - dice_coef: 0.8332 - iou: 0.7144 - recall: 0.4076 - precision: 0.9898 - val_loss: 0.2664 - val_dice_coef: 0.7336 - val_iou: 0.5803 - val_recall: 0.3404 - val_precision: 0.9593 - lr: 1.0000e-06\n",
            "Epoch 32/100\n",
            "60/60 [==============================] - ETA: 0s - loss: 0.1666 - dice_coef: 0.8334 - iou: 0.7147 - recall: 0.4076 - precision: 0.9899\n",
            "Epoch 32: val_loss did not improve from 0.26636\n",
            "60/60 [==============================] - 40s 672ms/step - loss: 0.1666 - dice_coef: 0.8334 - iou: 0.7147 - recall: 0.4076 - precision: 0.9899 - val_loss: 0.2665 - val_dice_coef: 0.7335 - val_iou: 0.5802 - val_recall: 0.3403 - val_precision: 0.9593 - lr: 1.0000e-06\n",
            "Epoch 33/100\n",
            "60/60 [==============================] - ETA: 0s - loss: 0.1664 - dice_coef: 0.8336 - iou: 0.7150 - recall: 0.4076 - precision: 0.9900\n",
            "Epoch 33: val_loss did not improve from 0.26636\n",
            "60/60 [==============================] - 40s 674ms/step - loss: 0.1664 - dice_coef: 0.8336 - iou: 0.7150 - recall: 0.4076 - precision: 0.9900 - val_loss: 0.2665 - val_dice_coef: 0.7335 - val_iou: 0.5801 - val_recall: 0.3402 - val_precision: 0.9593 - lr: 1.0000e-06\n",
            "Epoch 34/100\n",
            "60/60 [==============================] - ETA: 0s - loss: 0.1662 - dice_coef: 0.8338 - iou: 0.7153 - recall: 0.4075 - precision: 0.9900\n",
            "Epoch 34: val_loss did not improve from 0.26636\n",
            "60/60 [==============================] - 40s 673ms/step - loss: 0.1662 - dice_coef: 0.8338 - iou: 0.7153 - recall: 0.4075 - precision: 0.9900 - val_loss: 0.2666 - val_dice_coef: 0.7334 - val_iou: 0.5800 - val_recall: 0.3401 - val_precision: 0.9593 - lr: 1.0000e-06\n",
            "Epoch 35/100\n",
            "60/60 [==============================] - ETA: 0s - loss: 0.1660 - dice_coef: 0.8340 - iou: 0.7156 - recall: 0.4075 - precision: 0.9901\n",
            "Epoch 35: val_loss did not improve from 0.26636\n",
            "60/60 [==============================] - 40s 672ms/step - loss: 0.1660 - dice_coef: 0.8340 - iou: 0.7156 - recall: 0.4075 - precision: 0.9901 - val_loss: 0.2667 - val_dice_coef: 0.7333 - val_iou: 0.5799 - val_recall: 0.3400 - val_precision: 0.9593 - lr: 1.0000e-06\n",
            "Epoch 36/100\n",
            "60/60 [==============================] - ETA: 0s - loss: 0.1658 - dice_coef: 0.8342 - iou: 0.7159 - recall: 0.4075 - precision: 0.9902\n",
            "Epoch 36: val_loss did not improve from 0.26636\n",
            "60/60 [==============================] - 40s 673ms/step - loss: 0.1658 - dice_coef: 0.8342 - iou: 0.7159 - recall: 0.4075 - precision: 0.9902 - val_loss: 0.2668 - val_dice_coef: 0.7332 - val_iou: 0.5799 - val_recall: 0.3399 - val_precision: 0.9593 - lr: 1.0000e-06\n",
            "Epoch 37/100\n",
            "60/60 [==============================] - ETA: 0s - loss: 0.1657 - dice_coef: 0.8343 - iou: 0.7161 - recall: 0.4075 - precision: 0.9903\n",
            "Epoch 37: val_loss did not improve from 0.26636\n",
            "60/60 [==============================] - 40s 674ms/step - loss: 0.1657 - dice_coef: 0.8343 - iou: 0.7161 - recall: 0.4075 - precision: 0.9903 - val_loss: 0.2668 - val_dice_coef: 0.7332 - val_iou: 0.5798 - val_recall: 0.3398 - val_precision: 0.9593 - lr: 1.0000e-06\n",
            "Epoch 38/100\n",
            "60/60 [==============================] - ETA: 0s - loss: 0.1655 - dice_coef: 0.8345 - iou: 0.7164 - recall: 0.4075 - precision: 0.9904\n",
            "Epoch 38: val_loss did not improve from 0.26636\n",
            "60/60 [==============================] - 40s 674ms/step - loss: 0.1655 - dice_coef: 0.8345 - iou: 0.7164 - recall: 0.4075 - precision: 0.9904 - val_loss: 0.2669 - val_dice_coef: 0.7331 - val_iou: 0.5797 - val_recall: 0.3397 - val_precision: 0.9593 - lr: 1.0000e-06\n",
            "Epoch 39/100\n",
            "60/60 [==============================] - ETA: 0s - loss: 0.1653 - dice_coef: 0.8347 - iou: 0.7167 - recall: 0.4075 - precision: 0.9905\n",
            "Epoch 39: val_loss did not improve from 0.26636\n",
            "60/60 [==============================] - 40s 673ms/step - loss: 0.1653 - dice_coef: 0.8347 - iou: 0.7167 - recall: 0.4075 - precision: 0.9905 - val_loss: 0.2670 - val_dice_coef: 0.7330 - val_iou: 0.5796 - val_recall: 0.3396 - val_precision: 0.9593 - lr: 1.0000e-06\n",
            "Epoch 40/100\n",
            "60/60 [==============================] - ETA: 0s - loss: 0.1651 - dice_coef: 0.8349 - iou: 0.7170 - recall: 0.4075 - precision: 0.9906\n",
            "Epoch 40: val_loss did not improve from 0.26636\n",
            "60/60 [==============================] - 40s 673ms/step - loss: 0.1651 - dice_coef: 0.8349 - iou: 0.7170 - recall: 0.4075 - precision: 0.9906 - val_loss: 0.2670 - val_dice_coef: 0.7330 - val_iou: 0.5795 - val_recall: 0.3395 - val_precision: 0.9593 - lr: 1.0000e-06\n"
          ]
        },
        {
          "output_type": "execute_result",
          "data": {
            "text/plain": [
              "<keras.callbacks.History at 0x7fb1cf707550>"
            ]
          },
          "metadata": {},
          "execution_count": 35
        }
      ],
      "source": [
        "model.fit(\n",
        "        train_dataset,\n",
        "        epochs=num_epochs,\n",
        "        validation_data=valid_dataset,\n",
        "        steps_per_epoch=train_steps,\n",
        "        validation_steps=valid_setps,\n",
        "        callbacks=callbacks\n",
        "    )"
      ]
    },
    {
      "cell_type": "markdown",
      "metadata": {
        "id": "bz4e2rv-KM3r"
      },
      "source": [
        "Evaluate Model"
      ]
    },
    {
      "cell_type": "code",
      "execution_count": 36,
      "metadata": {
        "id": "jANACPhkJxR_"
      },
      "outputs": [],
      "source": [
        "os.environ[\"TF_CPP_MIN_LOG_LEVEL\"] = \"2\""
      ]
    },
    {
      "cell_type": "code",
      "execution_count": 37,
      "metadata": {
        "id": "5h8-38QHJyNY"
      },
      "outputs": [],
      "source": [
        "def create_dir(path):\n",
        "    if not os.path.exists(path):\n",
        "        os.makedirs(path)"
      ]
    },
    {
      "cell_type": "code",
      "execution_count": 38,
      "metadata": {
        "id": "PMnrK5HGKRMr"
      },
      "outputs": [],
      "source": [
        "def read_image(path):\n",
        "    x = cv2.imread(path, cv2.IMREAD_COLOR)\n",
        "    x = cv2.resize(x, (W, H))\n",
        "    ori_x = x\n",
        "    x = x/255.0\n",
        "    x = x.astype(np.float32)\n",
        "    return ori_x, x"
      ]
    },
    {
      "cell_type": "code",
      "execution_count": 39,
      "metadata": {
        "id": "X_FRHt6fKWUI"
      },
      "outputs": [],
      "source": [
        "def read_mask(path):\n",
        "    x = cv2.imread(path, cv2.IMREAD_GRAYSCALE)  ## (512, 512)\n",
        "    x = cv2.resize(x, (W, H))\n",
        "    ori_x = x\n",
        "    x = x/255.0\n",
        "    x = x.astype(np.int32)\n",
        "    return ori_x, x"
      ]
    },
    {
      "cell_type": "code",
      "execution_count": 40,
      "metadata": {
        "id": "dgNjZjQQKYXJ"
      },
      "outputs": [],
      "source": [
        "def load_data(path):\n",
        "    x = sorted(glob(os.path.join(path, \"image\", \"*.jpg\")))\n",
        "    y = sorted(glob(os.path.join(path, \"mask\", \"*.jpg\")))\n",
        "    return x, y"
      ]
    },
    {
      "cell_type": "code",
      "execution_count": 41,
      "metadata": {
        "id": "Ajahx_mhKbgG"
      },
      "outputs": [],
      "source": [
        "def save_results(ori_x, ori_y, y_pred, save_image_path):\n",
        "    line = np.ones((H, 10, 3)) * 255\n",
        "\n",
        "    ori_y = np.expand_dims(ori_y, axis=-1)\n",
        "    ori_y = np.concatenate([ori_y, ori_y, ori_y], axis=-1)\n",
        "\n",
        "    y_pred = np.expand_dims(y_pred, axis=-1)\n",
        "    y_pred = np.concatenate([y_pred, y_pred, y_pred], axis=-1) * 255\n",
        "\n",
        "    cat_images = np.concatenate([ori_x, line, ori_y, line, y_pred], axis=1)\n",
        "    cv2.imwrite(save_image_path, cat_images)"
      ]
    },
    {
      "cell_type": "code",
      "execution_count": 42,
      "metadata": {
        "id": "wvM5MLgbKd3Y"
      },
      "outputs": [],
      "source": [
        "create_dir(\"results\")"
      ]
    },
    {
      "cell_type": "code",
      "execution_count": 43,
      "metadata": {
        "id": "yhYFm8TlKfzZ"
      },
      "outputs": [],
      "source": [
        "with CustomObjectScope({'iou': iou, 'dice_coef': dice_coef, 'dice_loss': dice_loss}):\n",
        "        model = tf.keras.models.load_model(\"files/model.h5\")"
      ]
    },
    {
      "cell_type": "code",
      "execution_count": 44,
      "metadata": {
        "id": "ikK2HK63KxEq"
      },
      "outputs": [],
      "source": [
        "dataset_path = os.path.join(\"new_data\", \"test\")\n",
        "test_x, test_y = load_data(dataset_path)"
      ]
    },
    {
      "cell_type": "code",
      "execution_count": 45,
      "metadata": {
        "colab": {
          "base_uri": "https://localhost:8080/"
        },
        "id": "_QI0DqPxK4za",
        "outputId": "af24eaf8-61a7-44fd-98c6-4d71649ec0ff"
      },
      "outputs": [
        {
          "output_type": "stream",
          "name": "stderr",
          "text": [
            "\r  0%|          | 0/120 [00:00<?, ?it/s]"
          ]
        },
        {
          "output_type": "stream",
          "name": "stdout",
          "text": [
            "1/1 [==============================] - 4s 4s/step\n"
          ]
        },
        {
          "output_type": "stream",
          "name": "stderr",
          "text": [
            "\r  1%|          | 1/120 [00:06<12:03,  6.08s/it]"
          ]
        },
        {
          "output_type": "stream",
          "name": "stdout",
          "text": [
            "1/1 [==============================] - 0s 23ms/step\n"
          ]
        },
        {
          "output_type": "stream",
          "name": "stderr",
          "text": [
            "\r  2%|▏         | 2/120 [00:06<05:25,  2.76s/it]"
          ]
        },
        {
          "output_type": "stream",
          "name": "stdout",
          "text": [
            "1/1 [==============================] - 0s 23ms/step\n"
          ]
        },
        {
          "output_type": "stream",
          "name": "stderr",
          "text": [
            "\r  2%|▎         | 3/120 [00:06<03:17,  1.69s/it]"
          ]
        },
        {
          "output_type": "stream",
          "name": "stdout",
          "text": [
            "1/1 [==============================] - 0s 23ms/step\n"
          ]
        },
        {
          "output_type": "stream",
          "name": "stderr",
          "text": [
            "\r  3%|▎         | 4/120 [00:07<02:16,  1.18s/it]"
          ]
        },
        {
          "output_type": "stream",
          "name": "stdout",
          "text": [
            "1/1 [==============================] - 0s 29ms/step\n"
          ]
        },
        {
          "output_type": "stream",
          "name": "stderr",
          "text": [
            "\r  4%|▍         | 5/120 [00:07<01:44,  1.11it/s]"
          ]
        },
        {
          "output_type": "stream",
          "name": "stdout",
          "text": [
            "1/1 [==============================] - 0s 24ms/step\n"
          ]
        },
        {
          "output_type": "stream",
          "name": "stderr",
          "text": [
            "\r  5%|▌         | 6/120 [00:08<01:26,  1.32it/s]"
          ]
        },
        {
          "output_type": "stream",
          "name": "stdout",
          "text": [
            "1/1 [==============================] - 0s 22ms/step\n"
          ]
        },
        {
          "output_type": "stream",
          "name": "stderr",
          "text": [
            "\r  6%|▌         | 7/120 [00:08<01:12,  1.56it/s]"
          ]
        },
        {
          "output_type": "stream",
          "name": "stdout",
          "text": [
            "1/1 [==============================] - 0s 21ms/step\n"
          ]
        },
        {
          "output_type": "stream",
          "name": "stderr",
          "text": [
            "\r  7%|▋         | 8/120 [00:09<01:03,  1.77it/s]"
          ]
        },
        {
          "output_type": "stream",
          "name": "stdout",
          "text": [
            "1/1 [==============================] - 0s 22ms/step\n"
          ]
        },
        {
          "output_type": "stream",
          "name": "stderr",
          "text": [
            "\r  8%|▊         | 9/120 [00:09<00:57,  1.92it/s]"
          ]
        },
        {
          "output_type": "stream",
          "name": "stdout",
          "text": [
            "1/1 [==============================] - 0s 21ms/step\n"
          ]
        },
        {
          "output_type": "stream",
          "name": "stderr",
          "text": [
            "\r  8%|▊         | 10/120 [00:09<00:53,  2.05it/s]"
          ]
        },
        {
          "output_type": "stream",
          "name": "stdout",
          "text": [
            "1/1 [==============================] - 0s 22ms/step\n"
          ]
        },
        {
          "output_type": "stream",
          "name": "stderr",
          "text": [
            "\r  9%|▉         | 11/120 [00:10<00:52,  2.09it/s]"
          ]
        },
        {
          "output_type": "stream",
          "name": "stdout",
          "text": [
            "1/1 [==============================] - 0s 25ms/step\n"
          ]
        },
        {
          "output_type": "stream",
          "name": "stderr",
          "text": [
            "\r 10%|█         | 12/120 [00:10<00:51,  2.09it/s]"
          ]
        },
        {
          "output_type": "stream",
          "name": "stdout",
          "text": [
            "1/1 [==============================] - 0s 24ms/step\n"
          ]
        },
        {
          "output_type": "stream",
          "name": "stderr",
          "text": [
            "\r 11%|█         | 13/120 [00:11<00:51,  2.07it/s]"
          ]
        },
        {
          "output_type": "stream",
          "name": "stdout",
          "text": [
            "1/1 [==============================] - 0s 34ms/step\n"
          ]
        },
        {
          "output_type": "stream",
          "name": "stderr",
          "text": [
            "\r 12%|█▏        | 14/120 [00:11<00:55,  1.92it/s]"
          ]
        },
        {
          "output_type": "stream",
          "name": "stdout",
          "text": [
            "1/1 [==============================] - 0s 34ms/step\n"
          ]
        },
        {
          "output_type": "stream",
          "name": "stderr",
          "text": [
            "\r 12%|█▎        | 15/120 [00:12<01:00,  1.74it/s]"
          ]
        },
        {
          "output_type": "stream",
          "name": "stdout",
          "text": [
            "1/1 [==============================] - 0s 35ms/step\n"
          ]
        },
        {
          "output_type": "stream",
          "name": "stderr",
          "text": [
            "\r 13%|█▎        | 16/120 [00:13<01:03,  1.65it/s]"
          ]
        },
        {
          "output_type": "stream",
          "name": "stdout",
          "text": [
            "1/1 [==============================] - 0s 34ms/step\n"
          ]
        },
        {
          "output_type": "stream",
          "name": "stderr",
          "text": [
            "\r 14%|█▍        | 17/120 [00:13<01:04,  1.61it/s]"
          ]
        },
        {
          "output_type": "stream",
          "name": "stdout",
          "text": [
            "1/1 [==============================] - 0s 37ms/step\n"
          ]
        },
        {
          "output_type": "stream",
          "name": "stderr",
          "text": [
            "\r 15%|█▌        | 18/120 [00:14<01:03,  1.61it/s]"
          ]
        },
        {
          "output_type": "stream",
          "name": "stdout",
          "text": [
            "1/1 [==============================] - 0s 39ms/step\n"
          ]
        },
        {
          "output_type": "stream",
          "name": "stderr",
          "text": [
            "\r 16%|█▌        | 19/120 [00:15<01:01,  1.65it/s]"
          ]
        },
        {
          "output_type": "stream",
          "name": "stdout",
          "text": [
            "1/1 [==============================] - 0s 22ms/step\n"
          ]
        },
        {
          "output_type": "stream",
          "name": "stderr",
          "text": [
            "\r 17%|█▋        | 20/120 [00:15<00:54,  1.83it/s]"
          ]
        },
        {
          "output_type": "stream",
          "name": "stdout",
          "text": [
            "1/1 [==============================] - 0s 25ms/step\n"
          ]
        },
        {
          "output_type": "stream",
          "name": "stderr",
          "text": [
            "\r 18%|█▊        | 21/120 [00:15<00:49,  1.98it/s]"
          ]
        },
        {
          "output_type": "stream",
          "name": "stdout",
          "text": [
            "1/1 [==============================] - 0s 22ms/step\n"
          ]
        },
        {
          "output_type": "stream",
          "name": "stderr",
          "text": [
            "\r 18%|█▊        | 22/120 [00:16<00:46,  2.10it/s]"
          ]
        },
        {
          "output_type": "stream",
          "name": "stdout",
          "text": [
            "1/1 [==============================] - 0s 24ms/step\n"
          ]
        },
        {
          "output_type": "stream",
          "name": "stderr",
          "text": [
            "\r 19%|█▉        | 23/120 [00:16<00:45,  2.12it/s]"
          ]
        },
        {
          "output_type": "stream",
          "name": "stdout",
          "text": [
            "1/1 [==============================] - 0s 22ms/step\n"
          ]
        },
        {
          "output_type": "stream",
          "name": "stderr",
          "text": [
            "\r 20%|██        | 24/120 [00:17<00:46,  2.08it/s]"
          ]
        },
        {
          "output_type": "stream",
          "name": "stdout",
          "text": [
            "1/1 [==============================] - 0s 25ms/step\n"
          ]
        },
        {
          "output_type": "stream",
          "name": "stderr",
          "text": [
            "\r 21%|██        | 25/120 [00:17<00:43,  2.19it/s]"
          ]
        },
        {
          "output_type": "stream",
          "name": "stdout",
          "text": [
            "1/1 [==============================] - 0s 22ms/step\n"
          ]
        },
        {
          "output_type": "stream",
          "name": "stderr",
          "text": [
            "\r 22%|██▏       | 26/120 [00:18<00:43,  2.17it/s]"
          ]
        },
        {
          "output_type": "stream",
          "name": "stdout",
          "text": [
            "1/1 [==============================] - 0s 21ms/step\n"
          ]
        },
        {
          "output_type": "stream",
          "name": "stderr",
          "text": [
            "\r 22%|██▎       | 27/120 [00:18<00:40,  2.27it/s]"
          ]
        },
        {
          "output_type": "stream",
          "name": "stdout",
          "text": [
            "1/1 [==============================] - 0s 24ms/step\n"
          ]
        },
        {
          "output_type": "stream",
          "name": "stderr",
          "text": [
            "\r 23%|██▎       | 28/120 [00:19<00:41,  2.24it/s]"
          ]
        },
        {
          "output_type": "stream",
          "name": "stdout",
          "text": [
            "1/1 [==============================] - 0s 23ms/step\n"
          ]
        },
        {
          "output_type": "stream",
          "name": "stderr",
          "text": [
            "\r 24%|██▍       | 29/120 [00:19<00:41,  2.18it/s]"
          ]
        },
        {
          "output_type": "stream",
          "name": "stdout",
          "text": [
            "1/1 [==============================] - 0s 26ms/step\n"
          ]
        },
        {
          "output_type": "stream",
          "name": "stderr",
          "text": [
            "\r 25%|██▌       | 30/120 [00:19<00:41,  2.17it/s]"
          ]
        },
        {
          "output_type": "stream",
          "name": "stdout",
          "text": [
            "1/1 [==============================] - 0s 22ms/step\n"
          ]
        },
        {
          "output_type": "stream",
          "name": "stderr",
          "text": [
            "\r 26%|██▌       | 31/120 [00:20<00:41,  2.16it/s]"
          ]
        },
        {
          "output_type": "stream",
          "name": "stdout",
          "text": [
            "1/1 [==============================] - 0s 23ms/step\n"
          ]
        },
        {
          "output_type": "stream",
          "name": "stderr",
          "text": [
            "\r 27%|██▋       | 32/120 [00:20<00:40,  2.17it/s]"
          ]
        },
        {
          "output_type": "stream",
          "name": "stdout",
          "text": [
            "1/1 [==============================] - 0s 22ms/step\n"
          ]
        },
        {
          "output_type": "stream",
          "name": "stderr",
          "text": [
            "\r 28%|██▊       | 33/120 [00:21<00:39,  2.21it/s]"
          ]
        },
        {
          "output_type": "stream",
          "name": "stdout",
          "text": [
            "1/1 [==============================] - 0s 25ms/step\n"
          ]
        },
        {
          "output_type": "stream",
          "name": "stderr",
          "text": [
            "\r 28%|██▊       | 34/120 [00:21<00:39,  2.19it/s]"
          ]
        },
        {
          "output_type": "stream",
          "name": "stdout",
          "text": [
            "1/1 [==============================] - 0s 23ms/step\n"
          ]
        },
        {
          "output_type": "stream",
          "name": "stderr",
          "text": [
            "\r 29%|██▉       | 35/120 [00:22<00:39,  2.17it/s]"
          ]
        },
        {
          "output_type": "stream",
          "name": "stdout",
          "text": [
            "1/1 [==============================] - 0s 21ms/step\n"
          ]
        },
        {
          "output_type": "stream",
          "name": "stderr",
          "text": [
            "\r 30%|███       | 36/120 [00:22<00:38,  2.18it/s]"
          ]
        },
        {
          "output_type": "stream",
          "name": "stdout",
          "text": [
            "1/1 [==============================] - 0s 23ms/step\n"
          ]
        },
        {
          "output_type": "stream",
          "name": "stderr",
          "text": [
            "\r 31%|███       | 37/120 [00:23<00:38,  2.18it/s]"
          ]
        },
        {
          "output_type": "stream",
          "name": "stdout",
          "text": [
            "1/1 [==============================] - 0s 22ms/step\n"
          ]
        },
        {
          "output_type": "stream",
          "name": "stderr",
          "text": [
            "\r 32%|███▏      | 38/120 [00:23<00:36,  2.26it/s]"
          ]
        },
        {
          "output_type": "stream",
          "name": "stdout",
          "text": [
            "1/1 [==============================] - 0s 28ms/step\n"
          ]
        },
        {
          "output_type": "stream",
          "name": "stderr",
          "text": [
            "\r 32%|███▎      | 39/120 [00:23<00:34,  2.34it/s]"
          ]
        },
        {
          "output_type": "stream",
          "name": "stdout",
          "text": [
            "1/1 [==============================] - 0s 24ms/step\n"
          ]
        },
        {
          "output_type": "stream",
          "name": "stderr",
          "text": [
            "\r 33%|███▎      | 40/120 [00:24<00:35,  2.27it/s]"
          ]
        },
        {
          "output_type": "stream",
          "name": "stdout",
          "text": [
            "1/1 [==============================] - 0s 21ms/step\n"
          ]
        },
        {
          "output_type": "stream",
          "name": "stderr",
          "text": [
            "\r 34%|███▍      | 41/120 [00:24<00:33,  2.33it/s]"
          ]
        },
        {
          "output_type": "stream",
          "name": "stdout",
          "text": [
            "1/1 [==============================] - 0s 25ms/step\n"
          ]
        },
        {
          "output_type": "stream",
          "name": "stderr",
          "text": [
            "\r 35%|███▌      | 42/120 [00:25<00:37,  2.09it/s]"
          ]
        },
        {
          "output_type": "stream",
          "name": "stdout",
          "text": [
            "1/1 [==============================] - 0s 42ms/step\n"
          ]
        },
        {
          "output_type": "stream",
          "name": "stderr",
          "text": [
            "\r 36%|███▌      | 43/120 [00:26<00:41,  1.85it/s]"
          ]
        },
        {
          "output_type": "stream",
          "name": "stdout",
          "text": [
            "1/1 [==============================] - 0s 36ms/step\n"
          ]
        },
        {
          "output_type": "stream",
          "name": "stderr",
          "text": [
            "\r 37%|███▋      | 44/120 [00:26<00:43,  1.73it/s]"
          ]
        },
        {
          "output_type": "stream",
          "name": "stdout",
          "text": [
            "1/1 [==============================] - 0s 34ms/step\n"
          ]
        },
        {
          "output_type": "stream",
          "name": "stderr",
          "text": [
            "\r 38%|███▊      | 45/120 [00:27<00:45,  1.64it/s]"
          ]
        },
        {
          "output_type": "stream",
          "name": "stdout",
          "text": [
            "1/1 [==============================] - 0s 34ms/step\n"
          ]
        },
        {
          "output_type": "stream",
          "name": "stderr",
          "text": [
            "\r 38%|███▊      | 46/120 [00:28<00:45,  1.63it/s]"
          ]
        },
        {
          "output_type": "stream",
          "name": "stdout",
          "text": [
            "1/1 [==============================] - 0s 32ms/step\n"
          ]
        },
        {
          "output_type": "stream",
          "name": "stderr",
          "text": [
            "\r 39%|███▉      | 47/120 [00:28<00:49,  1.49it/s]"
          ]
        },
        {
          "output_type": "stream",
          "name": "stdout",
          "text": [
            "1/1 [==============================] - 0s 24ms/step\n"
          ]
        },
        {
          "output_type": "stream",
          "name": "stderr",
          "text": [
            "\r 40%|████      | 48/120 [00:29<00:43,  1.64it/s]"
          ]
        },
        {
          "output_type": "stream",
          "name": "stdout",
          "text": [
            "1/1 [==============================] - 0s 27ms/step\n"
          ]
        },
        {
          "output_type": "stream",
          "name": "stderr",
          "text": [
            "\r 41%|████      | 49/120 [00:29<00:39,  1.80it/s]"
          ]
        },
        {
          "output_type": "stream",
          "name": "stdout",
          "text": [
            "1/1 [==============================] - 0s 25ms/step\n"
          ]
        },
        {
          "output_type": "stream",
          "name": "stderr",
          "text": [
            "\r 42%|████▏     | 50/120 [00:30<00:36,  1.90it/s]"
          ]
        },
        {
          "output_type": "stream",
          "name": "stdout",
          "text": [
            "1/1 [==============================] - 0s 25ms/step\n"
          ]
        },
        {
          "output_type": "stream",
          "name": "stderr",
          "text": [
            "\r 42%|████▎     | 51/120 [00:30<00:33,  2.04it/s]"
          ]
        },
        {
          "output_type": "stream",
          "name": "stdout",
          "text": [
            "1/1 [==============================] - 0s 21ms/step\n"
          ]
        },
        {
          "output_type": "stream",
          "name": "stderr",
          "text": [
            "\r 43%|████▎     | 52/120 [00:31<00:33,  2.05it/s]"
          ]
        },
        {
          "output_type": "stream",
          "name": "stdout",
          "text": [
            "1/1 [==============================] - 0s 22ms/step\n"
          ]
        },
        {
          "output_type": "stream",
          "name": "stderr",
          "text": [
            "\r 44%|████▍     | 53/120 [00:31<00:31,  2.15it/s]"
          ]
        },
        {
          "output_type": "stream",
          "name": "stdout",
          "text": [
            "1/1 [==============================] - 0s 23ms/step\n"
          ]
        },
        {
          "output_type": "stream",
          "name": "stderr",
          "text": [
            "\r 45%|████▌     | 54/120 [00:32<00:30,  2.17it/s]"
          ]
        },
        {
          "output_type": "stream",
          "name": "stdout",
          "text": [
            "1/1 [==============================] - 0s 27ms/step\n"
          ]
        },
        {
          "output_type": "stream",
          "name": "stderr",
          "text": [
            "\r 46%|████▌     | 55/120 [00:32<00:30,  2.17it/s]"
          ]
        },
        {
          "output_type": "stream",
          "name": "stdout",
          "text": [
            "1/1 [==============================] - 0s 23ms/step\n"
          ]
        },
        {
          "output_type": "stream",
          "name": "stderr",
          "text": [
            "\r 47%|████▋     | 56/120 [00:32<00:28,  2.27it/s]"
          ]
        },
        {
          "output_type": "stream",
          "name": "stdout",
          "text": [
            "1/1 [==============================] - 0s 22ms/step\n"
          ]
        },
        {
          "output_type": "stream",
          "name": "stderr",
          "text": [
            "\r 48%|████▊     | 57/120 [00:33<00:27,  2.33it/s]"
          ]
        },
        {
          "output_type": "stream",
          "name": "stdout",
          "text": [
            "1/1 [==============================] - 0s 23ms/step\n"
          ]
        },
        {
          "output_type": "stream",
          "name": "stderr",
          "text": [
            "\r 48%|████▊     | 58/120 [00:33<00:26,  2.37it/s]"
          ]
        },
        {
          "output_type": "stream",
          "name": "stdout",
          "text": [
            "1/1 [==============================] - 0s 24ms/step\n"
          ]
        },
        {
          "output_type": "stream",
          "name": "stderr",
          "text": [
            "\r 49%|████▉     | 59/120 [00:34<00:26,  2.30it/s]"
          ]
        },
        {
          "output_type": "stream",
          "name": "stdout",
          "text": [
            "1/1 [==============================] - 0s 23ms/step\n"
          ]
        },
        {
          "output_type": "stream",
          "name": "stderr",
          "text": [
            "\r 50%|█████     | 60/120 [00:34<00:25,  2.32it/s]"
          ]
        },
        {
          "output_type": "stream",
          "name": "stdout",
          "text": [
            "1/1 [==============================] - 0s 22ms/step\n"
          ]
        },
        {
          "output_type": "stream",
          "name": "stderr",
          "text": [
            "\r 51%|█████     | 61/120 [00:34<00:24,  2.37it/s]"
          ]
        },
        {
          "output_type": "stream",
          "name": "stdout",
          "text": [
            "1/1 [==============================] - 0s 23ms/step\n"
          ]
        },
        {
          "output_type": "stream",
          "name": "stderr",
          "text": [
            "\r 52%|█████▏    | 62/120 [00:35<00:25,  2.31it/s]"
          ]
        },
        {
          "output_type": "stream",
          "name": "stdout",
          "text": [
            "1/1 [==============================] - 0s 26ms/step\n"
          ]
        },
        {
          "output_type": "stream",
          "name": "stderr",
          "text": [
            "\r 52%|█████▎    | 63/120 [00:35<00:24,  2.34it/s]"
          ]
        },
        {
          "output_type": "stream",
          "name": "stdout",
          "text": [
            "1/1 [==============================] - 0s 22ms/step\n"
          ]
        },
        {
          "output_type": "stream",
          "name": "stderr",
          "text": [
            "\r 53%|█████▎    | 64/120 [00:36<00:23,  2.35it/s]"
          ]
        },
        {
          "output_type": "stream",
          "name": "stdout",
          "text": [
            "1/1 [==============================] - 0s 25ms/step\n"
          ]
        },
        {
          "output_type": "stream",
          "name": "stderr",
          "text": [
            "\r 54%|█████▍    | 65/120 [00:36<00:23,  2.39it/s]"
          ]
        },
        {
          "output_type": "stream",
          "name": "stdout",
          "text": [
            "1/1 [==============================] - 0s 24ms/step\n"
          ]
        },
        {
          "output_type": "stream",
          "name": "stderr",
          "text": [
            "\r 55%|█████▌    | 66/120 [00:37<00:22,  2.40it/s]"
          ]
        },
        {
          "output_type": "stream",
          "name": "stdout",
          "text": [
            "1/1 [==============================] - 0s 24ms/step\n"
          ]
        },
        {
          "output_type": "stream",
          "name": "stderr",
          "text": [
            "\r 56%|█████▌    | 67/120 [00:37<00:21,  2.41it/s]"
          ]
        },
        {
          "output_type": "stream",
          "name": "stdout",
          "text": [
            "1/1 [==============================] - 0s 25ms/step\n"
          ]
        },
        {
          "output_type": "stream",
          "name": "stderr",
          "text": [
            "\r 57%|█████▋    | 68/120 [00:37<00:22,  2.33it/s]"
          ]
        },
        {
          "output_type": "stream",
          "name": "stdout",
          "text": [
            "1/1 [==============================] - 0s 26ms/step\n"
          ]
        },
        {
          "output_type": "stream",
          "name": "stderr",
          "text": [
            "\r 57%|█████▊    | 69/120 [00:38<00:21,  2.35it/s]"
          ]
        },
        {
          "output_type": "stream",
          "name": "stdout",
          "text": [
            "1/1 [==============================] - 0s 23ms/step\n"
          ]
        },
        {
          "output_type": "stream",
          "name": "stderr",
          "text": [
            "\r 58%|█████▊    | 70/120 [00:38<00:21,  2.34it/s]"
          ]
        },
        {
          "output_type": "stream",
          "name": "stdout",
          "text": [
            "1/1 [==============================] - 0s 37ms/step\n"
          ]
        },
        {
          "output_type": "stream",
          "name": "stderr",
          "text": [
            "\r 59%|█████▉    | 71/120 [00:39<00:24,  2.00it/s]"
          ]
        },
        {
          "output_type": "stream",
          "name": "stdout",
          "text": [
            "1/1 [==============================] - 0s 32ms/step\n"
          ]
        },
        {
          "output_type": "stream",
          "name": "stderr",
          "text": [
            "\r 60%|██████    | 72/120 [00:40<00:26,  1.80it/s]"
          ]
        },
        {
          "output_type": "stream",
          "name": "stdout",
          "text": [
            "1/1 [==============================] - 0s 34ms/step\n"
          ]
        },
        {
          "output_type": "stream",
          "name": "stderr",
          "text": [
            "\r 61%|██████    | 73/120 [00:40<00:28,  1.68it/s]"
          ]
        },
        {
          "output_type": "stream",
          "name": "stdout",
          "text": [
            "1/1 [==============================] - 0s 44ms/step\n"
          ]
        },
        {
          "output_type": "stream",
          "name": "stderr",
          "text": [
            "\r 62%|██████▏   | 74/120 [00:41<00:27,  1.66it/s]"
          ]
        },
        {
          "output_type": "stream",
          "name": "stdout",
          "text": [
            "1/1 [==============================] - 0s 31ms/step\n"
          ]
        },
        {
          "output_type": "stream",
          "name": "stderr",
          "text": [
            "\r 62%|██████▎   | 75/120 [00:42<00:28,  1.58it/s]"
          ]
        },
        {
          "output_type": "stream",
          "name": "stdout",
          "text": [
            "1/1 [==============================] - 0s 34ms/step\n"
          ]
        },
        {
          "output_type": "stream",
          "name": "stderr",
          "text": [
            "\r 63%|██████▎   | 76/120 [00:42<00:26,  1.63it/s]"
          ]
        },
        {
          "output_type": "stream",
          "name": "stdout",
          "text": [
            "1/1 [==============================] - 0s 23ms/step\n"
          ]
        },
        {
          "output_type": "stream",
          "name": "stderr",
          "text": [
            "\r 64%|██████▍   | 77/120 [00:43<00:23,  1.81it/s]"
          ]
        },
        {
          "output_type": "stream",
          "name": "stdout",
          "text": [
            "1/1 [==============================] - 0s 26ms/step\n"
          ]
        },
        {
          "output_type": "stream",
          "name": "stderr",
          "text": [
            "\r 65%|██████▌   | 78/120 [00:43<00:21,  1.97it/s]"
          ]
        },
        {
          "output_type": "stream",
          "name": "stdout",
          "text": [
            "1/1 [==============================] - 0s 22ms/step\n"
          ]
        },
        {
          "output_type": "stream",
          "name": "stderr",
          "text": [
            "\r 66%|██████▌   | 79/120 [00:44<00:20,  2.00it/s]"
          ]
        },
        {
          "output_type": "stream",
          "name": "stdout",
          "text": [
            "1/1 [==============================] - 0s 25ms/step\n"
          ]
        },
        {
          "output_type": "stream",
          "name": "stderr",
          "text": [
            "\r 67%|██████▋   | 80/120 [00:44<00:19,  2.10it/s]"
          ]
        },
        {
          "output_type": "stream",
          "name": "stdout",
          "text": [
            "1/1 [==============================] - 0s 22ms/step\n"
          ]
        },
        {
          "output_type": "stream",
          "name": "stderr",
          "text": [
            "\r 68%|██████▊   | 81/120 [00:44<00:18,  2.10it/s]"
          ]
        },
        {
          "output_type": "stream",
          "name": "stdout",
          "text": [
            "1/1 [==============================] - 0s 26ms/step\n"
          ]
        },
        {
          "output_type": "stream",
          "name": "stderr",
          "text": [
            "\r 68%|██████▊   | 82/120 [00:45<00:17,  2.20it/s]"
          ]
        },
        {
          "output_type": "stream",
          "name": "stdout",
          "text": [
            "1/1 [==============================] - 0s 26ms/step\n"
          ]
        },
        {
          "output_type": "stream",
          "name": "stderr",
          "text": [
            "\r 69%|██████▉   | 83/120 [00:45<00:17,  2.18it/s]"
          ]
        },
        {
          "output_type": "stream",
          "name": "stdout",
          "text": [
            "1/1 [==============================] - 0s 22ms/step\n"
          ]
        },
        {
          "output_type": "stream",
          "name": "stderr",
          "text": [
            "\r 70%|███████   | 84/120 [00:46<00:16,  2.25it/s]"
          ]
        },
        {
          "output_type": "stream",
          "name": "stdout",
          "text": [
            "1/1 [==============================] - 0s 25ms/step\n"
          ]
        },
        {
          "output_type": "stream",
          "name": "stderr",
          "text": [
            "\r 71%|███████   | 85/120 [00:46<00:15,  2.32it/s]"
          ]
        },
        {
          "output_type": "stream",
          "name": "stdout",
          "text": [
            "1/1 [==============================] - 0s 22ms/step\n"
          ]
        },
        {
          "output_type": "stream",
          "name": "stderr",
          "text": [
            "\r 72%|███████▏  | 86/120 [00:47<00:14,  2.36it/s]"
          ]
        },
        {
          "output_type": "stream",
          "name": "stdout",
          "text": [
            "1/1 [==============================] - 0s 23ms/step\n"
          ]
        },
        {
          "output_type": "stream",
          "name": "stderr",
          "text": [
            "\r 72%|███████▎  | 87/120 [00:47<00:13,  2.36it/s]"
          ]
        },
        {
          "output_type": "stream",
          "name": "stdout",
          "text": [
            "1/1 [==============================] - 0s 26ms/step\n"
          ]
        },
        {
          "output_type": "stream",
          "name": "stderr",
          "text": [
            "\r 73%|███████▎  | 88/120 [00:47<00:13,  2.35it/s]"
          ]
        },
        {
          "output_type": "stream",
          "name": "stdout",
          "text": [
            "1/1 [==============================] - 0s 21ms/step\n"
          ]
        },
        {
          "output_type": "stream",
          "name": "stderr",
          "text": [
            "\r 74%|███████▍  | 89/120 [00:48<00:13,  2.29it/s]"
          ]
        },
        {
          "output_type": "stream",
          "name": "stdout",
          "text": [
            "1/1 [==============================] - 0s 23ms/step\n"
          ]
        },
        {
          "output_type": "stream",
          "name": "stderr",
          "text": [
            "\r 75%|███████▌  | 90/120 [00:48<00:12,  2.34it/s]"
          ]
        },
        {
          "output_type": "stream",
          "name": "stdout",
          "text": [
            "1/1 [==============================] - 0s 28ms/step\n"
          ]
        },
        {
          "output_type": "stream",
          "name": "stderr",
          "text": [
            "\r 76%|███████▌  | 91/120 [00:49<00:12,  2.36it/s]"
          ]
        },
        {
          "output_type": "stream",
          "name": "stdout",
          "text": [
            "1/1 [==============================] - 0s 22ms/step\n"
          ]
        },
        {
          "output_type": "stream",
          "name": "stderr",
          "text": [
            "\r 77%|███████▋  | 92/120 [00:49<00:11,  2.36it/s]"
          ]
        },
        {
          "output_type": "stream",
          "name": "stdout",
          "text": [
            "1/1 [==============================] - 0s 23ms/step\n"
          ]
        },
        {
          "output_type": "stream",
          "name": "stderr",
          "text": [
            "\r 78%|███████▊  | 93/120 [00:50<00:11,  2.29it/s]"
          ]
        },
        {
          "output_type": "stream",
          "name": "stdout",
          "text": [
            "1/1 [==============================] - 0s 23ms/step\n"
          ]
        },
        {
          "output_type": "stream",
          "name": "stderr",
          "text": [
            "\r 78%|███████▊  | 94/120 [00:50<00:11,  2.35it/s]"
          ]
        },
        {
          "output_type": "stream",
          "name": "stdout",
          "text": [
            "1/1 [==============================] - 0s 21ms/step\n"
          ]
        },
        {
          "output_type": "stream",
          "name": "stderr",
          "text": [
            "\r 79%|███████▉  | 95/120 [00:50<00:10,  2.39it/s]"
          ]
        },
        {
          "output_type": "stream",
          "name": "stdout",
          "text": [
            "1/1 [==============================] - 0s 25ms/step\n"
          ]
        },
        {
          "output_type": "stream",
          "name": "stderr",
          "text": [
            "\r 80%|████████  | 96/120 [00:51<00:10,  2.32it/s]"
          ]
        },
        {
          "output_type": "stream",
          "name": "stdout",
          "text": [
            "1/1 [==============================] - 0s 24ms/step\n"
          ]
        },
        {
          "output_type": "stream",
          "name": "stderr",
          "text": [
            "\r 81%|████████  | 97/120 [00:51<00:09,  2.35it/s]"
          ]
        },
        {
          "output_type": "stream",
          "name": "stdout",
          "text": [
            "1/1 [==============================] - 0s 21ms/step\n"
          ]
        },
        {
          "output_type": "stream",
          "name": "stderr",
          "text": [
            "\r 82%|████████▏ | 98/120 [00:52<00:09,  2.34it/s]"
          ]
        },
        {
          "output_type": "stream",
          "name": "stdout",
          "text": [
            "1/1 [==============================] - 0s 24ms/step\n"
          ]
        },
        {
          "output_type": "stream",
          "name": "stderr",
          "text": [
            "\r 82%|████████▎ | 99/120 [00:52<00:08,  2.36it/s]"
          ]
        },
        {
          "output_type": "stream",
          "name": "stdout",
          "text": [
            "1/1 [==============================] - 0s 41ms/step\n"
          ]
        },
        {
          "output_type": "stream",
          "name": "stderr",
          "text": [
            "\r 83%|████████▎ | 100/120 [00:53<00:09,  2.01it/s]"
          ]
        },
        {
          "output_type": "stream",
          "name": "stdout",
          "text": [
            "1/1 [==============================] - 0s 31ms/step\n"
          ]
        },
        {
          "output_type": "stream",
          "name": "stderr",
          "text": [
            "\r 84%|████████▍ | 101/120 [00:53<00:10,  1.82it/s]"
          ]
        },
        {
          "output_type": "stream",
          "name": "stdout",
          "text": [
            "1/1 [==============================] - 0s 39ms/step\n"
          ]
        },
        {
          "output_type": "stream",
          "name": "stderr",
          "text": [
            "\r 85%|████████▌ | 102/120 [00:54<00:10,  1.75it/s]"
          ]
        },
        {
          "output_type": "stream",
          "name": "stdout",
          "text": [
            "1/1 [==============================] - 0s 31ms/step\n"
          ]
        },
        {
          "output_type": "stream",
          "name": "stderr",
          "text": [
            "\r 86%|████████▌ | 103/120 [00:55<00:10,  1.65it/s]"
          ]
        },
        {
          "output_type": "stream",
          "name": "stdout",
          "text": [
            "1/1 [==============================] - 0s 31ms/step\n"
          ]
        },
        {
          "output_type": "stream",
          "name": "stderr",
          "text": [
            "\r 87%|████████▋ | 104/120 [00:55<00:10,  1.60it/s]"
          ]
        },
        {
          "output_type": "stream",
          "name": "stdout",
          "text": [
            "1/1 [==============================] - 0s 36ms/step\n"
          ]
        },
        {
          "output_type": "stream",
          "name": "stderr",
          "text": [
            "\r 88%|████████▊ | 105/120 [00:56<00:09,  1.58it/s]"
          ]
        },
        {
          "output_type": "stream",
          "name": "stdout",
          "text": [
            "1/1 [==============================] - 0s 25ms/step\n"
          ]
        },
        {
          "output_type": "stream",
          "name": "stderr",
          "text": [
            "\r 88%|████████▊ | 106/120 [00:57<00:08,  1.71it/s]"
          ]
        },
        {
          "output_type": "stream",
          "name": "stdout",
          "text": [
            "1/1 [==============================] - 0s 24ms/step\n"
          ]
        },
        {
          "output_type": "stream",
          "name": "stderr",
          "text": [
            "\r 89%|████████▉ | 107/120 [00:57<00:07,  1.82it/s]"
          ]
        },
        {
          "output_type": "stream",
          "name": "stdout",
          "text": [
            "1/1 [==============================] - 0s 23ms/step\n"
          ]
        },
        {
          "output_type": "stream",
          "name": "stderr",
          "text": [
            "\r 90%|█████████ | 108/120 [00:57<00:06,  1.96it/s]"
          ]
        },
        {
          "output_type": "stream",
          "name": "stdout",
          "text": [
            "1/1 [==============================] - 0s 22ms/step\n"
          ]
        },
        {
          "output_type": "stream",
          "name": "stderr",
          "text": [
            "\r 91%|█████████ | 109/120 [00:58<00:05,  2.01it/s]"
          ]
        },
        {
          "output_type": "stream",
          "name": "stdout",
          "text": [
            "1/1 [==============================] - 0s 28ms/step\n"
          ]
        },
        {
          "output_type": "stream",
          "name": "stderr",
          "text": [
            "\r 92%|█████████▏| 110/120 [00:58<00:04,  2.12it/s]"
          ]
        },
        {
          "output_type": "stream",
          "name": "stdout",
          "text": [
            "1/1 [==============================] - 0s 23ms/step\n"
          ]
        },
        {
          "output_type": "stream",
          "name": "stderr",
          "text": [
            "\r 92%|█████████▎| 111/120 [00:59<00:04,  2.13it/s]"
          ]
        },
        {
          "output_type": "stream",
          "name": "stdout",
          "text": [
            "1/1 [==============================] - 0s 22ms/step\n"
          ]
        },
        {
          "output_type": "stream",
          "name": "stderr",
          "text": [
            "\r 93%|█████████▎| 112/120 [00:59<00:03,  2.23it/s]"
          ]
        },
        {
          "output_type": "stream",
          "name": "stdout",
          "text": [
            "1/1 [==============================] - 0s 22ms/step\n"
          ]
        },
        {
          "output_type": "stream",
          "name": "stderr",
          "text": [
            "\r 94%|█████████▍| 113/120 [01:00<00:03,  2.20it/s]"
          ]
        },
        {
          "output_type": "stream",
          "name": "stdout",
          "text": [
            "1/1 [==============================] - 0s 26ms/step\n"
          ]
        },
        {
          "output_type": "stream",
          "name": "stderr",
          "text": [
            "\r 95%|█████████▌| 114/120 [01:00<00:02,  2.25it/s]"
          ]
        },
        {
          "output_type": "stream",
          "name": "stdout",
          "text": [
            "1/1 [==============================] - 0s 25ms/step\n"
          ]
        },
        {
          "output_type": "stream",
          "name": "stderr",
          "text": [
            "\r 96%|█████████▌| 115/120 [01:01<00:02,  2.20it/s]"
          ]
        },
        {
          "output_type": "stream",
          "name": "stdout",
          "text": [
            "1/1 [==============================] - 0s 23ms/step\n"
          ]
        },
        {
          "output_type": "stream",
          "name": "stderr",
          "text": [
            "\r 97%|█████████▋| 116/120 [01:01<00:01,  2.26it/s]"
          ]
        },
        {
          "output_type": "stream",
          "name": "stdout",
          "text": [
            "1/1 [==============================] - 0s 22ms/step\n"
          ]
        },
        {
          "output_type": "stream",
          "name": "stderr",
          "text": [
            "\r 98%|█████████▊| 117/120 [01:01<00:01,  2.24it/s]"
          ]
        },
        {
          "output_type": "stream",
          "name": "stdout",
          "text": [
            "1/1 [==============================] - 0s 23ms/step\n"
          ]
        },
        {
          "output_type": "stream",
          "name": "stderr",
          "text": [
            "\r 98%|█████████▊| 118/120 [01:02<00:00,  2.23it/s]"
          ]
        },
        {
          "output_type": "stream",
          "name": "stdout",
          "text": [
            "1/1 [==============================] - 0s 26ms/step\n"
          ]
        },
        {
          "output_type": "stream",
          "name": "stderr",
          "text": [
            "\r 99%|█████████▉| 119/120 [01:02<00:00,  2.31it/s]"
          ]
        },
        {
          "output_type": "stream",
          "name": "stdout",
          "text": [
            "1/1 [==============================] - 0s 23ms/step\n"
          ]
        },
        {
          "output_type": "stream",
          "name": "stderr",
          "text": [
            "100%|██████████| 120/120 [01:03<00:00,  1.90it/s]\n"
          ]
        }
      ],
      "source": [
        "SCORE = []\n",
        "for x, y in tqdm(zip(test_x, test_y), total=len(test_x)):\n",
        "    \"\"\" Extracting name \"\"\"\n",
        "    name = x.split(\"/\")[-1].split(\".\")[0]\n",
        "\n",
        "    \"\"\" Read the image and mask \"\"\"\n",
        "    ori_x, x = read_image(x)\n",
        "    ori_y, y = read_mask(y)\n",
        "\n",
        "    \"\"\" Prediction \"\"\"\n",
        "    y_pred = model.predict(np.expand_dims(x, axis=0))[0]\n",
        "    y_pred = y_pred > 0.5\n",
        "    y_pred = y_pred.astype(np.int32)\n",
        "    y_pred = np.squeeze(y_pred, axis=-1)\n",
        "\n",
        "    \"\"\" Saving the images \"\"\"\n",
        "    save_image_path = f\"results/{name}.png\"\n",
        "    save_results(ori_x, ori_y, y_pred, save_image_path)\n",
        "\n",
        "    \"\"\" Flatten the array \"\"\"\n",
        "    y = y.flatten()\n",
        "    y_pred = y_pred.flatten()\n",
        "\n",
        "    \"\"\" Calculate the metrics \"\"\"\n",
        "    acc_value = accuracy_score(y, y_pred)\n",
        "    f1_value = f1_score(y, y_pred, labels=[0, 1], average=\"binary\")\n",
        "    jac_value = jaccard_score(y, y_pred, labels=[0, 1], average=\"binary\")\n",
        "    recall_value = recall_score(y, y_pred, labels=[0, 1], average=\"binary\")\n",
        "    precision_value = precision_score(y, y_pred, labels=[0, 1], average=\"binary\")\n",
        "    SCORE.append([name, acc_value, f1_value, jac_value, recall_value, precision_value])\n"
      ]
    },
    {
      "cell_type": "code",
      "execution_count": 46,
      "metadata": {
        "colab": {
          "base_uri": "https://localhost:8080/"
        },
        "id": "4Y8xpM-OLEd5",
        "outputId": "13c082e8-bc6a-4ead-ba7e-c89e498164c3"
      },
      "outputs": [
        {
          "output_type": "stream",
          "name": "stdout",
          "text": [
            "Accuracy: 0.94611\n",
            "F1: 0.52221\n",
            "Jaccard: 0.35447\n",
            "Recall: 0.86359\n",
            "Precision: 0.37822\n"
          ]
        }
      ],
      "source": [
        "score = [s[1:] for s in SCORE]\n",
        "score = np.mean(score, axis=0)\n",
        "print(f\"Accuracy: {score[0]:0.5f}\")\n",
        "print(f\"F1: {score[1]:0.5f}\")\n",
        "print(f\"Jaccard: {score[2]:0.5f}\")\n",
        "print(f\"Recall: {score[3]:0.5f}\")\n",
        "print(f\"Precision: {score[4]:0.5f}\")"
      ]
    },
    {
      "cell_type": "code",
      "execution_count": 47,
      "metadata": {
        "id": "l6OnBuRmLKEJ"
      },
      "outputs": [],
      "source": [
        "df = pd.DataFrame(SCORE, columns=[\"Image\", \"Acc\", \"F1\", \"Jaccard\", \"Recall\", \"Precision\"])\n",
        "df.to_csv(\"files/score.csv\")\n"
      ]
    }
  ],
  "metadata": {
    "accelerator": "GPU",
    "colab": {
      "gpuType": "T4",
      "provenance": []
    },
    "gpuClass": "standard",
    "kernelspec": {
      "display_name": "Python 3",
      "name": "python3"
    },
    "language_info": {
      "name": "python"
    }
  },
  "nbformat": 4,
  "nbformat_minor": 0
}